{
 "cells": [
  {
   "cell_type": "code",
   "execution_count": 1,
   "id": "7af790b9-f4cc-40e0-a28a-7f11fc403b83",
   "metadata": {},
   "outputs": [],
   "source": [
    "import pandas as pd\n",
    "import pyarrow as pa\n",
    "import pyarrow.parquet as pq"
   ]
  },
  {
   "cell_type": "markdown",
   "id": "406befe5-d0ab-4a53-bea1-5fe8b56d3dfc",
   "metadata": {},
   "source": [
    "## Targets"
   ]
  },
  {
   "cell_type": "code",
   "execution_count": 2,
   "id": "249e125e-b4f2-458a-8a83-5a897b667e5f",
   "metadata": {},
   "outputs": [
    {
     "name": "stdout",
     "output_type": "stream",
     "text": [
      "CPU times: user 169 ms, sys: 40.4 ms, total: 209 ms\n",
      "Wall time: 239 ms\n"
     ]
    }
   ],
   "source": [
    "%%time\n",
    "\n",
    "import bisect\n",
    "import numpy as np\n",
    "\n",
    "df_public = pq.read_table('data/public_train.pqt').to_pandas().sort_values(by='user_id')\n",
    "\n",
    "def age_bucket(x):\n",
    "    return bisect.bisect_left([18,25,35,45,55,65], x)\n",
    "\n",
    "y_age = df_public['age']\n",
    "y_age = np.array(list(map(age_bucket, y_age)))\n",
    "y_gender = np.array(df_public['is_male'])"
   ]
  },
  {
   "cell_type": "markdown",
   "id": "0c4b4ffa-8d7c-4a10-8263-a1ff7194ba7d",
   "metadata": {},
   "source": [
    "## Add features"
   ]
  },
  {
   "cell_type": "code",
   "execution_count": 3,
   "id": "61125509-7636-441d-902f-654a36f2c7ea",
   "metadata": {},
   "outputs": [
    {
     "name": "stdout",
     "output_type": "stream",
     "text": [
      "CPU times: user 8min 55s, sys: 1min 58s, total: 10min 54s\n",
      "Wall time: 11min 26s\n"
     ]
    }
   ],
   "source": [
    "%%time\n",
    "X_embeddings0 = pd.read_csv('./data/coles_finetuned_split_0.csv')\n",
    "X_embeddings1 = pd.read_csv('./data/coles_finetuned_split_1.csv')\n",
    "X_embeddings2 = pd.read_csv('./data/coles_finetuned_split_2.csv')\n",
    "X_embeddings3 = pd.read_csv('./data/coles_finetuned_split_3.csv')\n",
    "X_embeddings4 = pd.read_csv('./data/coles_finetuned_split_4.csv')\n",
    "\n",
    "X_embeddings0.columns = list(map(lambda x: x + \"_0\" if x.startswith('embed') else x, X_embeddings0.columns))\n",
    "X_embeddings1.columns = list(map(lambda x: x + \"_1\" if x.startswith('embed') else x, X_embeddings1.columns))\n",
    "X_embeddings2.columns = list(map(lambda x: x + \"_2\" if x.startswith('embed') else x, X_embeddings2.columns))\n",
    "X_embeddings3.columns = list(map(lambda x: x + \"_3\" if x.startswith('embed') else x, X_embeddings3.columns))\n",
    "X_embeddings4.columns = list(map(lambda x: x + \"_4\" if x.startswith('embed') else x, X_embeddings4.columns))\n",
    "\n",
    "\n",
    "X_aggregates = pd.read_csv('./data/aggregates_pivot.csv')\n",
    "X_factors = pd.read_csv('./data/user_factors_128.csv')\n",
    "X_mlm = pd.read_csv('./data/mlm_512.csv')\n",
    "\n",
    "# X_sup = pd.read_csv('./data/coles_sup.csv')\n",
    "# X_sup.columns = list(map(lambda x: x + \"_sup\" if x.startswith('embed') else x, X_sup.columns))\n",
    "X_tab = pd.read_csv('./data/tabformer.csv')\n",
    "\n",
    "\n",
    "X = df_public\n",
    "X = X.merge(X_embeddings0, on=\"user_id\", how='inner')\n",
    "X = X.merge(X_embeddings1, on=\"user_id\", how='inner')\n",
    "X = X.merge(X_embeddings2, on=\"user_id\", how='inner')\n",
    "X = X.merge(X_embeddings3, on=\"user_id\", how='inner')\n",
    "X = X.merge(X_embeddings4, on=\"user_id\", how='inner')\n",
    "\n",
    "#X = X.merge(X_sup, on=\"user_id\", how='inner')\n",
    "X = X.merge(X_tab, on=\"user_id\", how='inner')\n",
    "\n",
    "\n",
    "X = X.merge(X_mlm, on=\"user_id\", how='inner')\n",
    "X = X.merge(X_factors, on=\"user_id\", how='left').fillna(0)\n",
    "X = X.merge(X_aggregates, on=\"user_id\", how='inner')\n",
    "\n",
    "del X['user_id'], X['age'], X['is_male']"
   ]
  },
  {
   "cell_type": "code",
   "execution_count": 4,
   "id": "441113dd-0ec3-4b2b-8983-eb193d961d44",
   "metadata": {},
   "outputs": [
    {
     "data": {
      "text/html": [
       "<div>\n",
       "<style scoped>\n",
       "    .dataframe tbody tr th:only-of-type {\n",
       "        vertical-align: middle;\n",
       "    }\n",
       "\n",
       "    .dataframe tbody tr th {\n",
       "        vertical-align: top;\n",
       "    }\n",
       "\n",
       "    .dataframe thead th {\n",
       "        text-align: right;\n",
       "    }\n",
       "</style>\n",
       "<table border=\"1\" class=\"dataframe\">\n",
       "  <thead>\n",
       "    <tr style=\"text-align: right;\">\n",
       "      <th></th>\n",
       "      <th>embed_0_0</th>\n",
       "      <th>embed_1_0</th>\n",
       "      <th>embed_2_0</th>\n",
       "      <th>embed_3_0</th>\n",
       "      <th>embed_4_0</th>\n",
       "      <th>embed_5_0</th>\n",
       "      <th>embed_6_0</th>\n",
       "      <th>embed_7_0</th>\n",
       "      <th>embed_8_0</th>\n",
       "      <th>embed_9_0</th>\n",
       "      <th>...</th>\n",
       "      <th>Чукотский АО_y</th>\n",
       "      <th>Ямало-Ненецкий АО_y</th>\n",
       "      <th>Ярославская область_y</th>\n",
       "      <th>phablet</th>\n",
       "      <th>plain</th>\n",
       "      <th>smartphone</th>\n",
       "      <th>tablet</th>\n",
       "      <th>Android</th>\n",
       "      <th>Apple iOS</th>\n",
       "      <th>iOS</th>\n",
       "    </tr>\n",
       "  </thead>\n",
       "  <tbody>\n",
       "    <tr>\n",
       "      <th>0</th>\n",
       "      <td>-0.122672</td>\n",
       "      <td>-0.999904</td>\n",
       "      <td>-0.119468</td>\n",
       "      <td>-0.871612</td>\n",
       "      <td>-0.007279</td>\n",
       "      <td>-0.462623</td>\n",
       "      <td>-0.150636</td>\n",
       "      <td>-0.105602</td>\n",
       "      <td>-0.602177</td>\n",
       "      <td>-0.498653</td>\n",
       "      <td>...</td>\n",
       "      <td>0.0</td>\n",
       "      <td>0.0</td>\n",
       "      <td>0.0</td>\n",
       "      <td>0.0</td>\n",
       "      <td>0.0</td>\n",
       "      <td>193.0</td>\n",
       "      <td>0.0</td>\n",
       "      <td>193.0</td>\n",
       "      <td>0.0</td>\n",
       "      <td>0.0</td>\n",
       "    </tr>\n",
       "    <tr>\n",
       "      <th>1</th>\n",
       "      <td>0.092888</td>\n",
       "      <td>-0.997484</td>\n",
       "      <td>-0.074780</td>\n",
       "      <td>-0.995615</td>\n",
       "      <td>0.005366</td>\n",
       "      <td>-0.857133</td>\n",
       "      <td>-0.356260</td>\n",
       "      <td>-0.167777</td>\n",
       "      <td>-0.777232</td>\n",
       "      <td>-0.622301</td>\n",
       "      <td>...</td>\n",
       "      <td>0.0</td>\n",
       "      <td>0.0</td>\n",
       "      <td>0.0</td>\n",
       "      <td>0.0</td>\n",
       "      <td>0.0</td>\n",
       "      <td>1047.0</td>\n",
       "      <td>0.0</td>\n",
       "      <td>1047.0</td>\n",
       "      <td>0.0</td>\n",
       "      <td>0.0</td>\n",
       "    </tr>\n",
       "    <tr>\n",
       "      <th>2</th>\n",
       "      <td>-0.162700</td>\n",
       "      <td>-0.963253</td>\n",
       "      <td>-0.240695</td>\n",
       "      <td>-0.999872</td>\n",
       "      <td>0.009320</td>\n",
       "      <td>-0.423705</td>\n",
       "      <td>-0.799750</td>\n",
       "      <td>-0.159654</td>\n",
       "      <td>-0.804487</td>\n",
       "      <td>0.277693</td>\n",
       "      <td>...</td>\n",
       "      <td>0.0</td>\n",
       "      <td>0.0</td>\n",
       "      <td>0.0</td>\n",
       "      <td>0.0</td>\n",
       "      <td>0.0</td>\n",
       "      <td>411.0</td>\n",
       "      <td>0.0</td>\n",
       "      <td>411.0</td>\n",
       "      <td>0.0</td>\n",
       "      <td>0.0</td>\n",
       "    </tr>\n",
       "    <tr>\n",
       "      <th>3</th>\n",
       "      <td>-0.077096</td>\n",
       "      <td>-0.591143</td>\n",
       "      <td>-0.364717</td>\n",
       "      <td>-0.931921</td>\n",
       "      <td>-0.007163</td>\n",
       "      <td>-0.722793</td>\n",
       "      <td>-0.161890</td>\n",
       "      <td>-0.151500</td>\n",
       "      <td>-0.886268</td>\n",
       "      <td>-0.437940</td>\n",
       "      <td>...</td>\n",
       "      <td>0.0</td>\n",
       "      <td>0.0</td>\n",
       "      <td>0.0</td>\n",
       "      <td>0.0</td>\n",
       "      <td>0.0</td>\n",
       "      <td>275.0</td>\n",
       "      <td>0.0</td>\n",
       "      <td>275.0</td>\n",
       "      <td>0.0</td>\n",
       "      <td>0.0</td>\n",
       "    </tr>\n",
       "    <tr>\n",
       "      <th>4</th>\n",
       "      <td>-0.032359</td>\n",
       "      <td>-0.996381</td>\n",
       "      <td>0.147097</td>\n",
       "      <td>-0.998264</td>\n",
       "      <td>0.002351</td>\n",
       "      <td>-0.112643</td>\n",
       "      <td>-0.819566</td>\n",
       "      <td>-0.249439</td>\n",
       "      <td>-0.773500</td>\n",
       "      <td>-0.772860</td>\n",
       "      <td>...</td>\n",
       "      <td>0.0</td>\n",
       "      <td>0.0</td>\n",
       "      <td>0.0</td>\n",
       "      <td>0.0</td>\n",
       "      <td>0.0</td>\n",
       "      <td>777.0</td>\n",
       "      <td>0.0</td>\n",
       "      <td>777.0</td>\n",
       "      <td>0.0</td>\n",
       "      <td>0.0</td>\n",
       "    </tr>\n",
       "  </tbody>\n",
       "</table>\n",
       "<p>5 rows × 10184 columns</p>\n",
       "</div>"
      ],
      "text/plain": [
       "   embed_0_0  embed_1_0  embed_2_0  embed_3_0  embed_4_0  embed_5_0  \\\n",
       "0  -0.122672  -0.999904  -0.119468  -0.871612  -0.007279  -0.462623   \n",
       "1   0.092888  -0.997484  -0.074780  -0.995615   0.005366  -0.857133   \n",
       "2  -0.162700  -0.963253  -0.240695  -0.999872   0.009320  -0.423705   \n",
       "3  -0.077096  -0.591143  -0.364717  -0.931921  -0.007163  -0.722793   \n",
       "4  -0.032359  -0.996381   0.147097  -0.998264   0.002351  -0.112643   \n",
       "\n",
       "   embed_6_0  embed_7_0  embed_8_0  embed_9_0  ...  Чукотский АО_y  \\\n",
       "0  -0.150636  -0.105602  -0.602177  -0.498653  ...             0.0   \n",
       "1  -0.356260  -0.167777  -0.777232  -0.622301  ...             0.0   \n",
       "2  -0.799750  -0.159654  -0.804487   0.277693  ...             0.0   \n",
       "3  -0.161890  -0.151500  -0.886268  -0.437940  ...             0.0   \n",
       "4  -0.819566  -0.249439  -0.773500  -0.772860  ...             0.0   \n",
       "\n",
       "   Ямало-Ненецкий АО_y  Ярославская область_y  phablet  plain  smartphone  \\\n",
       "0                  0.0                    0.0      0.0    0.0       193.0   \n",
       "1                  0.0                    0.0      0.0    0.0      1047.0   \n",
       "2                  0.0                    0.0      0.0    0.0       411.0   \n",
       "3                  0.0                    0.0      0.0    0.0       275.0   \n",
       "4                  0.0                    0.0      0.0    0.0       777.0   \n",
       "\n",
       "   tablet  Android  Apple iOS  iOS  \n",
       "0     0.0    193.0        0.0  0.0  \n",
       "1     0.0   1047.0        0.0  0.0  \n",
       "2     0.0    411.0        0.0  0.0  \n",
       "3     0.0    275.0        0.0  0.0  \n",
       "4     0.0    777.0        0.0  0.0  \n",
       "\n",
       "[5 rows x 10184 columns]"
      ]
     },
     "execution_count": 4,
     "metadata": {},
     "output_type": "execute_result"
    }
   ],
   "source": [
    "X.head()"
   ]
  },
  {
   "cell_type": "markdown",
   "id": "e1256856-3585-4b1d-ab90-68d7f2e74847",
   "metadata": {},
   "source": [
    "## Gender"
   ]
  },
  {
   "cell_type": "code",
   "execution_count": 22,
   "id": "82263b0a-0d79-4a36-95e9-6369bc27f371",
   "metadata": {},
   "outputs": [],
   "source": [
    "cat_features =  ['region_name', 'city_name', 'cpe_manufacturer_name', 'cpe_model_name', 'cpe_type_cd', 'cpe_model_os_type', 'part_of_day', 'price']"
   ]
  },
  {
   "cell_type": "code",
   "execution_count": 23,
   "id": "f91510b6-e068-4b06-a703-ece8a251280e",
   "metadata": {
    "tags": []
   },
   "outputs": [],
   "source": [
    "# %%time\n",
    "\n",
    "from catboost import CatBoostClassifier, metrics\n",
    "from sklearn.model_selection import train_test_split\n",
    "from sklearn.metrics import roc_auc_score\n",
    "not_na_gender = (y_gender != 'NA') & (y_gender != None)\n",
    "x_train, x_test_gender, y_train, y_test_gender = train_test_split(X[not_na_gender], y_gender[not_na_gender], test_size = 0.1, random_state = 0)\n",
    "\n",
    "clf_gender = CatBoostClassifier(\n",
    "    iterations=5000,\n",
    "    custom_metric=[metrics.AUC()],\n",
    "    use_best_model=True,\n",
    "    random_seed=42,\n",
    "    task_type=\"GPU\", \n",
    "    devices='0:1')"
   ]
  },
  {
   "cell_type": "code",
   "execution_count": 24,
   "id": "9fe21d68-b38b-44fb-9ae6-98cc720c5d7b",
   "metadata": {},
   "outputs": [
    {
     "name": "stdout",
     "output_type": "stream",
     "text": [
      "Learning rate set to 0.02297\n",
      "0:\tlearn: 0.6790017\ttest: 0.6795982\tbest: 0.6795982 (0)\ttotal: 67.9ms\tremaining: 5m 39s\n",
      "100:\tlearn: 0.4140102\ttest: 0.4279079\tbest: 0.4279079 (100)\ttotal: 6.15s\tremaining: 4m 58s\n",
      "200:\tlearn: 0.4064506\ttest: 0.4220849\tbest: 0.4220849 (200)\ttotal: 12.3s\tremaining: 4m 52s\n",
      "300:\tlearn: 0.4039787\ttest: 0.4208190\tbest: 0.4208190 (300)\ttotal: 18.2s\tremaining: 4m 43s\n",
      "400:\tlearn: 0.4020856\ttest: 0.4201670\tbest: 0.4201670 (400)\ttotal: 23.9s\tremaining: 4m 34s\n",
      "500:\tlearn: 0.4004906\ttest: 0.4195583\tbest: 0.4195385 (497)\ttotal: 29.6s\tremaining: 4m 25s\n",
      "600:\tlearn: 0.3989273\ttest: 0.4192272\tbest: 0.4192272 (600)\ttotal: 35.1s\tremaining: 4m 16s\n",
      "700:\tlearn: 0.3973750\ttest: 0.4189225\tbest: 0.4189225 (700)\ttotal: 40.6s\tremaining: 4m 8s\n",
      "800:\tlearn: 0.3959797\ttest: 0.4187508\tbest: 0.4187149 (787)\ttotal: 46s\tremaining: 4m 1s\n",
      "900:\tlearn: 0.3946265\ttest: 0.4185835\tbest: 0.4185620 (886)\ttotal: 51.7s\tremaining: 3m 55s\n",
      "1000:\tlearn: 0.3933784\ttest: 0.4184308\tbest: 0.4184308 (1000)\ttotal: 57.2s\tremaining: 3m 48s\n",
      "1100:\tlearn: 0.3922193\ttest: 0.4182858\tbest: 0.4182858 (1100)\ttotal: 1m 2s\tremaining: 3m 41s\n",
      "1200:\tlearn: 0.3911127\ttest: 0.4181530\tbest: 0.4181530 (1200)\ttotal: 1m 7s\tremaining: 3m 35s\n",
      "1300:\tlearn: 0.3900169\ttest: 0.4180197\tbest: 0.4180184 (1299)\ttotal: 1m 13s\tremaining: 3m 28s\n",
      "1400:\tlearn: 0.3889706\ttest: 0.4179683\tbest: 0.4179683 (1400)\ttotal: 1m 18s\tremaining: 3m 22s\n",
      "1500:\tlearn: 0.3878822\ttest: 0.4178551\tbest: 0.4178078 (1480)\ttotal: 1m 24s\tremaining: 3m 16s\n",
      "1600:\tlearn: 0.3868252\ttest: 0.4177118\tbest: 0.4177118 (1600)\ttotal: 1m 29s\tremaining: 3m 10s\n",
      "1700:\tlearn: 0.3858354\ttest: 0.4176036\tbest: 0.4176036 (1700)\ttotal: 1m 35s\tremaining: 3m 4s\n",
      "1800:\tlearn: 0.3848803\ttest: 0.4175126\tbest: 0.4175061 (1793)\ttotal: 1m 40s\tremaining: 2m 58s\n",
      "1900:\tlearn: 0.3839307\ttest: 0.4173870\tbest: 0.4173838 (1892)\ttotal: 1m 46s\tremaining: 2m 52s\n",
      "2000:\tlearn: 0.3830223\ttest: 0.4173540\tbest: 0.4173540 (2000)\ttotal: 1m 51s\tremaining: 2m 47s\n",
      "2100:\tlearn: 0.3821017\ttest: 0.4173152\tbest: 0.4173152 (2100)\ttotal: 1m 57s\tremaining: 2m 41s\n",
      "2200:\tlearn: 0.3811954\ttest: 0.4172570\tbest: 0.4172482 (2198)\ttotal: 2m 2s\tremaining: 2m 35s\n",
      "2300:\tlearn: 0.3803602\ttest: 0.4171515\tbest: 0.4171476 (2299)\ttotal: 2m 7s\tremaining: 2m 29s\n",
      "2400:\tlearn: 0.3794762\ttest: 0.4171067\tbest: 0.4171067 (2400)\ttotal: 2m 13s\tremaining: 2m 24s\n",
      "2500:\tlearn: 0.3786137\ttest: 0.4170929\tbest: 0.4170835 (2492)\ttotal: 2m 18s\tremaining: 2m 18s\n",
      "2600:\tlearn: 0.3778373\ttest: 0.4170027\tbest: 0.4169997 (2599)\ttotal: 2m 24s\tremaining: 2m 13s\n",
      "2700:\tlearn: 0.3770420\ttest: 0.4169656\tbest: 0.4169644 (2665)\ttotal: 2m 29s\tremaining: 2m 7s\n",
      "2800:\tlearn: 0.3762665\ttest: 0.4169122\tbest: 0.4169122 (2800)\ttotal: 2m 34s\tremaining: 2m 1s\n",
      "2900:\tlearn: 0.3754672\ttest: 0.4168425\tbest: 0.4168371 (2891)\ttotal: 2m 40s\tremaining: 1m 56s\n",
      "3000:\tlearn: 0.3747070\ttest: 0.4167890\tbest: 0.4167888 (2999)\ttotal: 2m 45s\tremaining: 1m 50s\n",
      "3100:\tlearn: 0.3739496\ttest: 0.4167651\tbest: 0.4167488 (3084)\ttotal: 2m 51s\tremaining: 1m 44s\n",
      "bestTest = 0.416748795\n",
      "bestIteration = 3084\n",
      "Shrink model to first 3085 iterations.\n"
     ]
    },
    {
     "data": {
      "text/plain": [
       "<catboost.core.CatBoostClassifier at 0x7fd58690a910>"
      ]
     },
     "execution_count": 24,
     "metadata": {},
     "output_type": "execute_result"
    }
   ],
   "source": [
    "clf_gender.fit(x_train, y_train, metric_period=100, early_stopping_rounds=100, eval_set=(x_test_gender, y_test_gender), cat_features=cat_features)"
   ]
  },
  {
   "cell_type": "code",
   "execution_count": 25,
   "id": "051bed94-4d10-4767-a774-269f2e0b5f57",
   "metadata": {},
   "outputs": [
    {
     "name": "stdout",
     "output_type": "stream",
     "text": [
      "GINI по полу 0.781\n"
     ]
    }
   ],
   "source": [
    "print(f'GINI по полу {2 * roc_auc_score(y_test_gender, clf_gender.predict_proba(x_test_gender)[:,1]) - 1:2.3f}')"
   ]
  },
  {
   "cell_type": "markdown",
   "id": "b6f90007-39ca-413f-bb25-4fb6c4567417",
   "metadata": {},
   "source": [
    "# Age"
   ]
  },
  {
   "cell_type": "code",
   "execution_count": 29,
   "id": "37c4697a-1ad9-4b11-904a-5d2cae5c0945",
   "metadata": {},
   "outputs": [
    {
     "name": "stdout",
     "output_type": "stream",
     "text": [
      "CPU times: user 18.8 s, sys: 22.7 s, total: 41.5 s\n",
      "Wall time: 41.5 s\n"
     ]
    }
   ],
   "source": [
    "%%time\n",
    "\n",
    "from sklearn.metrics import classification_report\n",
    "\n",
    "not_na_age = ~np.isnan(y_age)\n",
    "x_train, x_test_age, y_train, y_test_age = train_test_split(X[not_na_age], y_age[not_na_age], test_size = 0.1, random_state = 0)\n",
    "\n",
    "clf_age = CatBoostClassifier(iterations=5000,\n",
    "    custom_metric=[metrics.Accuracy()],\n",
    "    use_best_model=True,\n",
    "    random_seed=42,\n",
    "    task_type=\"GPU\", \n",
    "    devices='0:1')"
   ]
  },
  {
   "cell_type": "code",
   "execution_count": 30,
   "id": "b350a12b-d396-4821-a55a-68465a9eefe4",
   "metadata": {},
   "outputs": [
    {
     "name": "stdout",
     "output_type": "stream",
     "text": [
      "Learning rate set to 0.090642\n",
      "0:\tlearn: 1.8340702\ttest: 1.8354721\tbest: 1.8354721 (0)\ttotal: 240ms\tremaining: 19m 59s\n",
      "100:\tlearn: 1.1932220\ttest: 1.2140742\tbest: 1.2140742 (100)\ttotal: 18.2s\tremaining: 14m 43s\n",
      "200:\tlearn: 1.1734614\ttest: 1.2051717\tbest: 1.2051717 (200)\ttotal: 35.8s\tremaining: 14m 13s\n",
      "300:\tlearn: 1.1595028\ttest: 1.2015165\tbest: 1.2015165 (300)\ttotal: 52.7s\tremaining: 13m 43s\n",
      "400:\tlearn: 1.1476223\ttest: 1.1990616\tbest: 1.1990616 (400)\ttotal: 1m 9s\tremaining: 13m 16s\n",
      "500:\tlearn: 1.1370048\ttest: 1.1976479\tbest: 1.1976479 (500)\ttotal: 1m 25s\tremaining: 12m 50s\n",
      "600:\tlearn: 1.1270815\ttest: 1.1965501\tbest: 1.1965501 (600)\ttotal: 1m 42s\tremaining: 12m 28s\n",
      "700:\tlearn: 1.1175003\ttest: 1.1957686\tbest: 1.1957686 (700)\ttotal: 1m 58s\tremaining: 12m 7s\n",
      "800:\tlearn: 1.1080121\ttest: 1.1952501\tbest: 1.1952091 (788)\ttotal: 2m 14s\tremaining: 11m 47s\n",
      "900:\tlearn: 1.0995073\ttest: 1.1944556\tbest: 1.1944381 (899)\ttotal: 2m 30s\tremaining: 11m 26s\n",
      "1000:\tlearn: 1.0908983\ttest: 1.1940210\tbest: 1.1939819 (997)\ttotal: 2m 46s\tremaining: 11m 6s\n",
      "1100:\tlearn: 1.0828684\ttest: 1.1936376\tbest: 1.1935604 (1061)\ttotal: 3m 2s\tremaining: 10m 45s\n",
      "1200:\tlearn: 1.0750557\ttest: 1.1932017\tbest: 1.1931443 (1187)\ttotal: 3m 17s\tremaining: 10m 25s\n",
      "1300:\tlearn: 1.0674239\ttest: 1.1929905\tbest: 1.1929193 (1283)\ttotal: 3m 33s\tremaining: 10m 6s\n",
      "1400:\tlearn: 1.0598762\ttest: 1.1929828\tbest: 1.1928876 (1371)\ttotal: 3m 48s\tremaining: 9m 47s\n",
      "bestTest = 1.192887587\n",
      "bestIteration = 1371\n",
      "Shrink model to first 1372 iterations.\n"
     ]
    },
    {
     "data": {
      "text/plain": [
       "<catboost.core.CatBoostClassifier at 0x7fd5a24d1190>"
      ]
     },
     "execution_count": 30,
     "metadata": {},
     "output_type": "execute_result"
    }
   ],
   "source": [
    "clf_age.fit(x_train, y_train, metric_period=100, eval_set=(x_test_age, y_test_age), early_stopping_rounds=100, cat_features=cat_features)"
   ]
  },
  {
   "cell_type": "code",
   "execution_count": 31,
   "id": "d63be1d4-15a0-4c0a-9c5a-5d836a7a24ee",
   "metadata": {},
   "outputs": [
    {
     "name": "stdout",
     "output_type": "stream",
     "text": [
      "              precision    recall  f1-score   support\n",
      "\n",
      "         <18       0.00      0.00      0.00       113\n",
      "       18-25       0.56      0.46      0.50      3300\n",
      "       25-34       0.55      0.62      0.58      8690\n",
      "       35-44       0.45      0.55      0.50      7748\n",
      "       45-54       0.41      0.32      0.36      4275\n",
      "       55-65       0.45      0.32      0.38      2343\n",
      "         65+       0.43      0.04      0.08       531\n",
      "\n",
      "    accuracy                           0.49     27000\n",
      "   macro avg       0.41      0.33      0.34     27000\n",
      "weighted avg       0.49      0.49      0.48     27000\n",
      "\n"
     ]
    }
   ],
   "source": [
    "print(classification_report(y_test_age, clf_age.predict(x_test_age), \\\n",
    "                             target_names = ['<18','18-25','25-34', '35-44', '45-54', '55-65', '65+']))"
   ]
  },
  {
   "cell_type": "code",
   "execution_count": 32,
   "id": "e2de0fad-0751-4e50-9459-008092a75423",
   "metadata": {},
   "outputs": [
    {
     "data": {
      "text/plain": [
       "1.744"
      ]
     },
     "execution_count": 32,
     "metadata": {},
     "output_type": "execute_result"
    }
   ],
   "source": [
    "0.784 + 2*0.48"
   ]
  },
  {
   "cell_type": "markdown",
   "id": "1a820fac-fc1c-4508-9fcb-ed2d11665e4f",
   "metadata": {},
   "source": [
    "# Train on full dataset"
   ]
  },
  {
   "cell_type": "code",
   "execution_count": 13,
   "id": "85dc5a0c-3903-4164-9087-fff5a0a1bb3f",
   "metadata": {},
   "outputs": [
    {
     "name": "stdout",
     "output_type": "stream",
     "text": [
      "Learning rate set to 0.025482\n",
      "0:\tlearn: 0.6781661\ttotal: 814ms\tremaining: 1h 7m 48s\n",
      "200:\tlearn: 0.4080304\ttotal: 2m 6s\tremaining: 50m 16s\n",
      "300:\tlearn: 0.4053764\ttotal: 3m 5s\tremaining: 48m 15s\n",
      "400:\tlearn: 0.4033105\ttotal: 4m 5s\tremaining: 46m 58s\n",
      "500:\tlearn: 0.4012767\ttotal: 5m 3s\tremaining: 45m 23s\n",
      "600:\tlearn: 0.3987184\ttotal: 6m\tremaining: 43m 57s\n",
      "700:\tlearn: 0.3964618\ttotal: 6m 56s\tremaining: 42m 31s\n",
      "800:\tlearn: 0.3943319\ttotal: 7m 52s\tremaining: 41m 15s\n",
      "900:\tlearn: 0.3924352\ttotal: 8m 44s\tremaining: 39m 45s\n",
      "1000:\tlearn: 0.3906321\ttotal: 9m 35s\tremaining: 38m 20s\n",
      "1100:\tlearn: 0.3889595\ttotal: 10m 26s\tremaining: 36m 59s\n",
      "1200:\tlearn: 0.3873098\ttotal: 11m 17s\tremaining: 35m 43s\n",
      "1300:\tlearn: 0.3856382\ttotal: 12m 8s\tremaining: 34m 31s\n",
      "1400:\tlearn: 0.3841834\ttotal: 12m 57s\tremaining: 33m 18s\n",
      "1500:\tlearn: 0.3825928\ttotal: 13m 49s\tremaining: 32m 12s\n",
      "1600:\tlearn: 0.3810565\ttotal: 14m 38s\tremaining: 31m 4s\n",
      "1700:\tlearn: 0.3795614\ttotal: 15m 28s\tremaining: 30m 1s\n",
      "1800:\tlearn: 0.3780708\ttotal: 16m 19s\tremaining: 28m 59s\n",
      "1900:\tlearn: 0.3766465\ttotal: 17m 7s\tremaining: 27m 55s\n",
      "2000:\tlearn: 0.3752003\ttotal: 17m 57s\tremaining: 26m 54s\n",
      "2100:\tlearn: 0.3737792\ttotal: 18m 46s\tremaining: 25m 54s\n",
      "2200:\tlearn: 0.3723757\ttotal: 19m 35s\tremaining: 24m 54s\n",
      "2300:\tlearn: 0.3709257\ttotal: 20m 23s\tremaining: 23m 55s\n",
      "2400:\tlearn: 0.3695962\ttotal: 21m 12s\tremaining: 22m 56s\n",
      "2500:\tlearn: 0.3682203\ttotal: 22m 2s\tremaining: 22m 1s\n",
      "2600:\tlearn: 0.3668415\ttotal: 22m 53s\tremaining: 21m 6s\n",
      "2700:\tlearn: 0.3655099\ttotal: 23m 43s\tremaining: 20m 11s\n",
      "2800:\tlearn: 0.3642650\ttotal: 24m 31s\tremaining: 19m 15s\n",
      "2900:\tlearn: 0.3629063\ttotal: 25m 21s\tremaining: 18m 20s\n",
      "3000:\tlearn: 0.3616789\ttotal: 26m 9s\tremaining: 17m 25s\n",
      "3100:\tlearn: 0.3603513\ttotal: 27m\tremaining: 16m 32s\n",
      "3200:\tlearn: 0.3589905\ttotal: 27m 49s\tremaining: 15m 38s\n",
      "3300:\tlearn: 0.3577659\ttotal: 28m 37s\tremaining: 14m 43s\n",
      "3400:\tlearn: 0.3565422\ttotal: 29m 26s\tremaining: 13m 50s\n",
      "3500:\tlearn: 0.3552676\ttotal: 30m 16s\tremaining: 12m 57s\n",
      "3600:\tlearn: 0.3540179\ttotal: 31m 5s\tremaining: 12m 4s\n",
      "3700:\tlearn: 0.3528433\ttotal: 31m 54s\tremaining: 11m 11s\n",
      "3800:\tlearn: 0.3516524\ttotal: 32m 42s\tremaining: 10m 19s\n",
      "3900:\tlearn: 0.3504709\ttotal: 33m 31s\tremaining: 9m 26s\n",
      "4000:\tlearn: 0.3493370\ttotal: 34m 17s\tremaining: 8m 33s\n",
      "4100:\tlearn: 0.3481613\ttotal: 35m 5s\tremaining: 7m 41s\n",
      "4200:\tlearn: 0.3471308\ttotal: 35m 52s\tremaining: 6m 49s\n",
      "4300:\tlearn: 0.3459621\ttotal: 36m 41s\tremaining: 5m 57s\n",
      "4400:\tlearn: 0.3448264\ttotal: 37m 29s\tremaining: 5m 6s\n",
      "4500:\tlearn: 0.3437091\ttotal: 38m 17s\tremaining: 4m 14s\n",
      "4600:\tlearn: 0.3425830\ttotal: 39m 5s\tremaining: 3m 23s\n",
      "4700:\tlearn: 0.3414395\ttotal: 39m 53s\tremaining: 2m 32s\n",
      "4800:\tlearn: 0.3403846\ttotal: 40m 40s\tremaining: 1m 41s\n",
      "4900:\tlearn: 0.3393437\ttotal: 41m 28s\tremaining: 50.3s\n",
      "4999:\tlearn: 0.3382486\ttotal: 42m 17s\tremaining: 0us\n",
      "Learning rate set to 0.02702\n",
      "0:\tlearn: 1.9126428\ttotal: 4.92s\tremaining: 6h 49m 57s\n",
      "100:\tlearn: 1.2505222\ttotal: 7m 28s\tremaining: 6h 2m 25s\n",
      "200:\tlearn: 1.2130844\ttotal: 14m 10s\tremaining: 5h 38m 20s\n",
      "300:\tlearn: 1.2018164\ttotal: 20m 49s\tremaining: 5h 25m\n",
      "400:\tlearn: 1.1945965\ttotal: 27m 31s\tremaining: 5h 15m 43s\n",
      "500:\tlearn: 1.1877331\ttotal: 34m 5s\tremaining: 5h 6m 10s\n",
      "600:\tlearn: 1.1814989\ttotal: 40m 27s\tremaining: 4h 56m 8s\n",
      "700:\tlearn: 1.1760633\ttotal: 46m 51s\tremaining: 4h 47m 23s\n",
      "800:\tlearn: 1.1712620\ttotal: 53m 10s\tremaining: 4h 38m 47s\n",
      "900:\tlearn: 1.1669852\ttotal: 59m 27s\tremaining: 4h 30m 29s\n",
      "1000:\tlearn: 1.1629922\ttotal: 1h 5m 33s\tremaining: 4h 21m 52s\n",
      "1100:\tlearn: 1.1593464\ttotal: 1h 11m 37s\tremaining: 4h 13m 38s\n",
      "1200:\tlearn: 1.1556383\ttotal: 1h 17m 45s\tremaining: 4h 5m 57s\n",
      "1300:\tlearn: 1.1522295\ttotal: 1h 23m 46s\tremaining: 3h 58m 11s\n",
      "1400:\tlearn: 1.1489649\ttotal: 1h 29m 50s\tremaining: 3h 50m 48s\n",
      "1500:\tlearn: 1.1457141\ttotal: 1h 35m 50s\tremaining: 3h 43m 25s\n",
      "1600:\tlearn: 1.1425868\ttotal: 1h 41m 53s\tremaining: 3h 36m 20s\n",
      "1700:\tlearn: 1.1397157\ttotal: 1h 47m 54s\tremaining: 3h 29m 17s\n",
      "1800:\tlearn: 1.1367659\ttotal: 1h 53m 55s\tremaining: 3h 22m 21s\n",
      "1900:\tlearn: 1.1339464\ttotal: 1h 59m 54s\tremaining: 3h 15m 28s\n",
      "2000:\tlearn: 1.1311017\ttotal: 2h 5m 53s\tremaining: 3h 8m 41s\n",
      "2100:\tlearn: 1.1282387\ttotal: 2h 11m 54s\tremaining: 3h 2m\n",
      "2200:\tlearn: 1.1254615\ttotal: 2h 17m 54s\tremaining: 2h 55m 22s\n",
      "2300:\tlearn: 1.1227467\ttotal: 2h 23m 47s\tremaining: 2h 48m 40s\n",
      "2400:\tlearn: 1.1201272\ttotal: 2h 29m 47s\tremaining: 2h 42m 8s\n",
      "2500:\tlearn: 1.1174886\ttotal: 2h 35m 43s\tremaining: 2h 35m 35s\n",
      "2600:\tlearn: 1.1150099\ttotal: 2h 41m 40s\tremaining: 2h 29m 7s\n",
      "2700:\tlearn: 1.1123781\ttotal: 2h 47m 48s\tremaining: 2h 22m 49s\n",
      "2800:\tlearn: 1.1098396\ttotal: 2h 53m 49s\tremaining: 2h 16m 28s\n",
      "2900:\tlearn: 1.1073589\ttotal: 2h 59m 48s\tremaining: 2h 10m 6s\n",
      "3000:\tlearn: 1.1049241\ttotal: 3h 5m 52s\tremaining: 2h 3m 48s\n",
      "3100:\tlearn: 1.1026016\ttotal: 3h 11m 45s\tremaining: 1h 57m 25s\n",
      "3200:\tlearn: 1.1002785\ttotal: 3h 17m 41s\tremaining: 1h 51m 6s\n",
      "3300:\tlearn: 1.0980017\ttotal: 3h 23m 28s\tremaining: 1h 44m 43s\n",
      "3400:\tlearn: 1.0956233\ttotal: 3h 29m 22s\tremaining: 1h 38m 26s\n",
      "3500:\tlearn: 1.0932511\ttotal: 3h 35m 20s\tremaining: 1h 32m 12s\n",
      "3600:\tlearn: 1.0909148\ttotal: 3h 41m 16s\tremaining: 1h 25m 58s\n",
      "3700:\tlearn: 1.0885796\ttotal: 3h 47m 9s\tremaining: 1h 19m 43s\n",
      "3800:\tlearn: 1.0863651\ttotal: 3h 53m 3s\tremaining: 1h 13m 31s\n",
      "3900:\tlearn: 1.0841867\ttotal: 3h 58m 57s\tremaining: 1h 7m 19s\n",
      "4000:\tlearn: 1.0821220\ttotal: 4h 4m 46s\tremaining: 1h 1m 6s\n",
      "4100:\tlearn: 1.0799899\ttotal: 4h 10m 38s\tremaining: 54m 56s\n",
      "4200:\tlearn: 1.0778662\ttotal: 4h 16m 31s\tremaining: 48m 47s\n",
      "4300:\tlearn: 1.0756551\ttotal: 4h 22m 28s\tremaining: 42m 39s\n",
      "4400:\tlearn: 1.0735572\ttotal: 4h 28m 22s\tremaining: 36m 31s\n",
      "4500:\tlearn: 1.0714302\ttotal: 4h 34m 21s\tremaining: 30m 25s\n",
      "4600:\tlearn: 1.0692137\ttotal: 4h 40m 24s\tremaining: 24m 19s\n",
      "4700:\tlearn: 1.0671214\ttotal: 4h 46m 4s\tremaining: 18m 11s\n",
      "4800:\tlearn: 1.0650523\ttotal: 4h 52m 2s\tremaining: 12m 6s\n",
      "4900:\tlearn: 1.0629367\ttotal: 4h 57m 54s\tremaining: 6m 1s\n",
      "4999:\tlearn: 1.0608511\ttotal: 5h 3m 47s\tremaining: 0us\n",
      "CPU times: user 4d 23h 31min 42s, sys: 5h 28min, total: 5d 4h 59min 43s\n",
      "Wall time: 5h 46min 48s\n"
     ]
    },
    {
     "data": {
      "text/plain": [
       "<catboost.core.CatBoostClassifier at 0x7fd66fb99160>"
      ]
     },
     "execution_count": 13,
     "metadata": {},
     "output_type": "execute_result"
    }
   ],
   "source": [
    "%%time\n",
    "clf_gender = CatBoostClassifier(iterations=3000,\n",
    "                                random_seed=3, \n",
    "                                task_type=\"GPU\", \n",
    "                                devices='0:1')\n",
    "not_na_gender = (y_gender != 'NA') & (y_gender != None)\n",
    "clf_gender.fit(X[not_na_gender], y_gender[not_na_gender], metric_period=100, cat_features=cat_features)\n",
    "\n",
    "clf_age = CatBoostClassifier(iterations=3000, \n",
    "                             random_seed=3, \n",
    "                             task_type=\"GPU\", \n",
    "                             devices='0:1')\n",
    "not_na_age = ~np.isnan(y_age)\n",
    "clf_age.fit(X[not_na_age], y_age[not_na_age], metric_period=100, cat_features=cat_features)"
   ]
  },
  {
   "cell_type": "markdown",
   "id": "0d03b407-5f0c-4f68-8b46-058b219b9062",
   "metadata": {},
   "source": [
    "# Score submit "
   ]
  },
  {
   "cell_type": "raw",
   "id": "8dd4f284-8552-49d6-9586-3771c1bd375a",
   "metadata": {},
   "source": [
    "(2 * f1_weighted(по 6 возрастным бакетам) + gini)"
   ]
  },
  {
   "cell_type": "code",
   "execution_count": 14,
   "id": "be52f120-770b-4c49-882e-506f0a373785",
   "metadata": {},
   "outputs": [
    {
     "name": "stdout",
     "output_type": "stream",
     "text": [
      "CPU times: user 32.5 s, sys: 40 s, total: 1min 12s\n",
      "Wall time: 1min 12s\n"
     ]
    }
   ],
   "source": [
    "%%time\n",
    "\n",
    "df_submit = pq.read_table('data/submit_2.pqt').to_pandas().sort_values(by='user_id')\n",
    "\n",
    "X_submit = df_submit\n",
    "\n",
    "X_submit = X_submit.merge(X_embeddings0, on=\"user_id\", how='left')\n",
    "X_submit = X_submit.merge(X_embeddings1, on=\"user_id\", how='left')\n",
    "X_submit = X_submit.merge(X_embeddings2, on=\"user_id\", how='left')\n",
    "X_submit = X_submit.merge(X_embeddings3, on=\"user_id\", how='left')\n",
    "X_submit = X_submit.merge(X_embeddings4, on=\"user_id\", how='left')\n",
    "\n",
    "# X_submit = X_submit.merge(X_sup, on=\"user_id\", how='left')\n",
    "X_submit = X_submit.merge(X_tab, on=\"user_id\", how='left')\n",
    "\n",
    "X_submit = X_submit.merge(X_mlm, on=\"user_id\", how='left')\n",
    "X_submit = X_submit.merge(X_factors, on=\"user_id\", how='left').fillna(0)\n",
    "X_submit = X_submit.merge(X_aggregates, on=\"user_id\", how='inner')"
   ]
  },
  {
   "cell_type": "code",
   "execution_count": 15,
   "id": "e40e4b33-59c1-41e5-9baa-c8a4594901e7",
   "metadata": {},
   "outputs": [
    {
     "data": {
      "text/plain": [
       "True"
      ]
     },
     "execution_count": 15,
     "metadata": {},
     "output_type": "execute_result"
    }
   ],
   "source": [
    "list(X_submit['user_id']) == list(df_submit['user_id'])"
   ]
  },
  {
   "cell_type": "code",
   "execution_count": 16,
   "id": "ffde4d06-0fa6-4db0-a73c-a0f7dc7c52dc",
   "metadata": {},
   "outputs": [],
   "source": [
    "del X_submit['user_id']"
   ]
  },
  {
   "cell_type": "code",
   "execution_count": 33,
   "id": "cf8b15f7-4351-49cb-acf1-4ba708b94365",
   "metadata": {},
   "outputs": [
    {
     "data": {
      "text/html": [
       "<div>\n",
       "<style scoped>\n",
       "    .dataframe tbody tr th:only-of-type {\n",
       "        vertical-align: middle;\n",
       "    }\n",
       "\n",
       "    .dataframe tbody tr th {\n",
       "        vertical-align: top;\n",
       "    }\n",
       "\n",
       "    .dataframe thead th {\n",
       "        text-align: right;\n",
       "    }\n",
       "</style>\n",
       "<table border=\"1\" class=\"dataframe\">\n",
       "  <thead>\n",
       "    <tr style=\"text-align: right;\">\n",
       "      <th></th>\n",
       "      <th>user_id</th>\n",
       "      <th>age</th>\n",
       "      <th>is_male</th>\n",
       "    </tr>\n",
       "  </thead>\n",
       "  <tbody>\n",
       "    <tr>\n",
       "      <th>0</th>\n",
       "      <td>6</td>\n",
       "      <td>2</td>\n",
       "      <td>0.067422</td>\n",
       "    </tr>\n",
       "    <tr>\n",
       "      <th>7</th>\n",
       "      <td>7</td>\n",
       "      <td>3</td>\n",
       "      <td>0.949316</td>\n",
       "    </tr>\n",
       "    <tr>\n",
       "      <th>9</th>\n",
       "      <td>9</td>\n",
       "      <td>2</td>\n",
       "      <td>0.058905</td>\n",
       "    </tr>\n",
       "    <tr>\n",
       "      <th>10</th>\n",
       "      <td>10</td>\n",
       "      <td>3</td>\n",
       "      <td>0.028650</td>\n",
       "    </tr>\n",
       "    <tr>\n",
       "      <th>4</th>\n",
       "      <td>11</td>\n",
       "      <td>5</td>\n",
       "      <td>0.890009</td>\n",
       "    </tr>\n",
       "  </tbody>\n",
       "</table>\n",
       "</div>"
      ],
      "text/plain": [
       "    user_id  age   is_male\n",
       "0         6    2  0.067422\n",
       "7         7    3  0.949316\n",
       "9         9    2  0.058905\n",
       "10       10    3  0.028650\n",
       "4        11    5  0.890009"
      ]
     },
     "execution_count": 33,
     "metadata": {},
     "output_type": "execute_result"
    }
   ],
   "source": [
    "df_submit['age'] = clf_age.predict(X_submit)\n",
    "df_submit['is_male'] = clf_gender.predict_proba(X_submit)[:, 1]\n",
    "df_submit.head()"
   ]
  },
  {
   "cell_type": "code",
   "execution_count": 34,
   "id": "2ee204ff-f3d5-4f35-a62c-ada032448cb2",
   "metadata": {},
   "outputs": [],
   "source": [
    "df_submit.to_csv(f'data/submissions/submission_pivot2.csv', index = False)"
   ]
  },
  {
   "cell_type": "code",
   "execution_count": 21,
   "id": "9b23d22b-f8c1-4368-b360-8a7eed52bda5",
   "metadata": {},
   "outputs": [
    {
     "data": {
      "text/html": [
       "<div>\n",
       "<style scoped>\n",
       "    .dataframe tbody tr th:only-of-type {\n",
       "        vertical-align: middle;\n",
       "    }\n",
       "\n",
       "    .dataframe tbody tr th {\n",
       "        vertical-align: top;\n",
       "    }\n",
       "\n",
       "    .dataframe thead th {\n",
       "        text-align: right;\n",
       "    }\n",
       "</style>\n",
       "<table border=\"1\" class=\"dataframe\">\n",
       "  <thead>\n",
       "    <tr style=\"text-align: right;\">\n",
       "      <th></th>\n",
       "      <th>user_id</th>\n",
       "      <th>age</th>\n",
       "      <th>is_male</th>\n",
       "    </tr>\n",
       "  </thead>\n",
       "  <tbody>\n",
       "    <tr>\n",
       "      <th>0</th>\n",
       "      <td>6</td>\n",
       "      <td>2</td>\n",
       "      <td>0.069900</td>\n",
       "    </tr>\n",
       "    <tr>\n",
       "      <th>7</th>\n",
       "      <td>7</td>\n",
       "      <td>2</td>\n",
       "      <td>0.936878</td>\n",
       "    </tr>\n",
       "    <tr>\n",
       "      <th>9</th>\n",
       "      <td>9</td>\n",
       "      <td>2</td>\n",
       "      <td>0.062676</td>\n",
       "    </tr>\n",
       "    <tr>\n",
       "      <th>10</th>\n",
       "      <td>10</td>\n",
       "      <td>3</td>\n",
       "      <td>0.035354</td>\n",
       "    </tr>\n",
       "    <tr>\n",
       "      <th>4</th>\n",
       "      <td>11</td>\n",
       "      <td>5</td>\n",
       "      <td>0.893796</td>\n",
       "    </tr>\n",
       "  </tbody>\n",
       "</table>\n",
       "</div>"
      ],
      "text/plain": [
       "    user_id  age   is_male\n",
       "0         6    2  0.069900\n",
       "7         7    2  0.936878\n",
       "9         9    2  0.062676\n",
       "10       10    3  0.035354\n",
       "4        11    5  0.893796"
      ]
     },
     "execution_count": 21,
     "metadata": {},
     "output_type": "execute_result"
    }
   ],
   "source": [
    "df_submit.head()"
   ]
  },
  {
   "cell_type": "code",
   "execution_count": 26,
   "id": "d0fb3c51-8abf-401c-b4ec-2f550ad77c5c",
   "metadata": {},
   "outputs": [],
   "source": [
    "df_submit.loc[df_submit.age==0, 'age'] = 1"
   ]
  },
  {
   "cell_type": "code",
   "execution_count": 27,
   "id": "a9c49357-0e63-487c-9895-53586484b62c",
   "metadata": {},
   "outputs": [],
   "source": [
    "df_submit = pd.read_csv(f'data/submissions/submission_split3.csv')"
   ]
  },
  {
   "cell_type": "code",
   "execution_count": 30,
   "id": "591abac0-7cde-4c07-9eeb-c22c0bb7cd59",
   "metadata": {},
   "outputs": [
    {
     "data": {
      "text/plain": [
       "Series([], Name: age, dtype: int64)"
      ]
     },
     "execution_count": 30,
     "metadata": {},
     "output_type": "execute_result"
    }
   ],
   "source": [
    "df_submit.loc[df_submit.age==0, 'age']"
   ]
  },
  {
   "cell_type": "markdown",
   "id": "504012c0-78a1-4146-830b-e82b95dc4fc8",
   "metadata": {},
   "source": [
    "## Blend all submissions"
   ]
  },
  {
   "cell_type": "code",
   "execution_count": 131,
   "id": "9a7122c3-90d3-4f2d-baa1-b321e97304f0",
   "metadata": {},
   "outputs": [
    {
     "name": "stdout",
     "output_type": "stream",
     "text": [
      "submission.csv\t\t   submission_cat4.csv\t     submission_pivot.csv\n",
      "submission_3_layers.csv    submission_cat5.csv\t     submission_pivot2.csv\n",
      "submission_blnd.csv\t   submission_cat7.csv\t     submission_pivot3.csv\n",
      "submission_blnd1.csv\t   submission_cat_suf_1.csv  submission_split1.csv\n",
      "submission_blnd2.csv\t   submission_cat_suf_3.csv  submission_split2.csv\n",
      "submission_blnd3.csv\t   submission_catboost.csv   submission_split3.csv\n",
      "submission_blnd4.csv\t   submission_danet1.csv     submission_total.csv\n",
      "submission_blnd_final.csv  submission_danet2.csv     submission_xlarge.csv\n",
      "submission_cat.csv\t   submission_ft.csv\t     submission_xlarge_1.csv\n",
      "submission_cat1.csv\t   submission_ft2.csv\t     submission_xlarge_2.csv\n",
      "submission_cat2.csv\t   submission_ft3.csv\n",
      "submission_cat3.csv\t   submission_large.csv\n"
     ]
    }
   ],
   "source": [
    "!ls data/submissions/all"
   ]
  },
  {
   "cell_type": "code",
   "execution_count": 132,
   "id": "3d5dd5aa-3621-44d4-9d40-5fa1905c56e5",
   "metadata": {},
   "outputs": [],
   "source": [
    "import glob\n",
    "submissions = glob.glob(\"data/submissions/all/*\") "
   ]
  },
  {
   "cell_type": "code",
   "execution_count": 133,
   "id": "58561270-ad4c-42e3-a315-7d6501cd6b97",
   "metadata": {},
   "outputs": [
    {
     "name": "stderr",
     "output_type": "stream",
     "text": [
      "100%|███████████████████████████████████████████████████████████████████████████████| 34/34 [00:01<00:00, 28.86it/s]\n"
     ]
    }
   ],
   "source": [
    "from tqdm import tqdm\n",
    "\n",
    "ages = []\n",
    "genders = []\n",
    "\n",
    "df_ids = pd.read_csv(f'data/submissions/submission.csv').sort_values(by='user_id')\n",
    "\n",
    "for sub in tqdm(submissions):\n",
    "    df = pd.read_csv(f'{sub}')\n",
    "    assert(all(df['user_id'].values == df_ids['user_id'].values ))\n",
    "    ages.append(df['age'].values)\n",
    "    genders.append(df['is_male'].values)"
   ]
  },
  {
   "cell_type": "code",
   "execution_count": 134,
   "id": "817b67c3-a131-4287-a57e-904998bed873",
   "metadata": {},
   "outputs": [
    {
     "data": {
      "text/plain": [
       "(144724, 34)"
      ]
     },
     "execution_count": 134,
     "metadata": {},
     "output_type": "execute_result"
    }
   ],
   "source": [
    "np.stack(ages).T.shape"
   ]
  },
  {
   "cell_type": "code",
   "execution_count": 135,
   "id": "88306a33-ae24-471c-aaac-8ba83acd14e7",
   "metadata": {},
   "outputs": [],
   "source": [
    "ages_amax = np.apply_along_axis(lambda x: np.argmax(np.bincount(x)), axis=1, arr=np.stack(ages).T)"
   ]
  },
  {
   "cell_type": "code",
   "execution_count": 136,
   "id": "ee6f0217-5d42-454e-bba6-41d21371f732",
   "metadata": {},
   "outputs": [],
   "source": [
    "gender_avg = np.apply_along_axis(lambda x: np.mean(x), axis=1, arr=np.stack(genders).T)"
   ]
  },
  {
   "cell_type": "code",
   "execution_count": 137,
   "id": "bb7856c1-470e-48a8-9ef9-d1b4718da328",
   "metadata": {},
   "outputs": [],
   "source": [
    "df_ids['age'] = ages_amax\n",
    "df_ids['is_male'] = gender_avg"
   ]
  },
  {
   "cell_type": "code",
   "execution_count": 138,
   "id": "efcae7cf-66e9-43e6-86dd-5f404483b897",
   "metadata": {},
   "outputs": [],
   "source": [
    "df_ids.to_csv(f'data/submissions/submission_final_max.csv', index = False)"
   ]
  },
  {
   "cell_type": "code",
   "execution_count": null,
   "id": "aa8ba21a-6fd5-4205-80bc-decb9568660d",
   "metadata": {},
   "outputs": [],
   "source": []
  }
 ],
 "metadata": {
  "kernelspec": {
   "display_name": "ptls",
   "language": "python",
   "name": "ptls"
  },
  "language_info": {
   "codemirror_mode": {
    "name": "ipython",
    "version": 3
   },
   "file_extension": ".py",
   "mimetype": "text/x-python",
   "name": "python",
   "nbconvert_exporter": "python",
   "pygments_lexer": "ipython3",
   "version": "3.8.10"
  }
 },
 "nbformat": 4,
 "nbformat_minor": 5
}
