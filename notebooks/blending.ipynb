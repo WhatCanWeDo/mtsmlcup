{
 "cells": [
  {
   "cell_type": "code",
   "execution_count": 1,
   "id": "7af790b9-f4cc-40e0-a28a-7f11fc403b83",
   "metadata": {},
   "outputs": [],
   "source": [
    "import pandas as pd\n",
    "import pyarrow as pa\n",
    "import pyarrow.parquet as pq\n",
    "from tqdm import tqdm"
   ]
  },
  {
   "cell_type": "markdown",
   "id": "406befe5-d0ab-4a53-bea1-5fe8b56d3dfc",
   "metadata": {},
   "source": [
    "## Targets"
   ]
  },
  {
   "cell_type": "code",
   "execution_count": 2,
   "id": "249e125e-b4f2-458a-8a83-5a897b667e5f",
   "metadata": {},
   "outputs": [
    {
     "name": "stdout",
     "output_type": "stream",
     "text": [
      "CPU times: user 95.6 ms, sys: 14.6 ms, total: 110 ms\n",
      "Wall time: 88.9 ms\n"
     ]
    }
   ],
   "source": [
    "%%time\n",
    "\n",
    "import bisect\n",
    "import numpy as np\n",
    "\n",
    "df_public = pq.read_table('data/public_train.pqt').to_pandas().sort_values(by='user_id')\n",
    "df_submit = pq.read_table('data/submit_2.pqt').to_pandas().sort_values(by='user_id')"
   ]
  },
  {
   "cell_type": "markdown",
   "id": "0c4b4ffa-8d7c-4a10-8263-a1ff7194ba7d",
   "metadata": {},
   "source": [
    "## Features"
   ]
  },
  {
   "cell_type": "code",
   "execution_count": 3,
   "id": "61125509-7636-441d-902f-654a36f2c7ea",
   "metadata": {},
   "outputs": [
    {
     "name": "stdout",
     "output_type": "stream",
     "text": [
      "CPU times: user 7min 42s, sys: 41.1 s, total: 8min 23s\n",
      "Wall time: 8min 23s\n"
     ]
    }
   ],
   "source": [
    "%%time\n",
    "df_emb0 = pd.read_csv('./data/coles_finetuned_split_0.csv')\n",
    "df_emb1 = pd.read_csv('./data/coles_finetuned_split_1.csv')\n",
    "df_emb2 = pd.read_csv('./data/coles_finetuned_split_2.csv')\n",
    "df_emb3 = pd.read_csv('./data/coles_finetuned_split_3.csv')\n",
    "df_emb4 = pd.read_csv('./data/coles_finetuned_split_4.csv')\n",
    "df_agg = pd.read_csv('./data/aggregates_pivot.csv')\n",
    "df_fac = pd.read_csv('./data/user_factors.csv')\n",
    "df_mlm = pd.read_csv('./data/mlm_512.csv')\n",
    "df_tab = pd.read_csv('./data/tabformer.csv')\n",
    "df_sup = pd.read_csv('./data/coles_sup.csv')\n",
    "df_suf = pd.read_csv('./data/coles_512_shuffle.csv')\n",
    "\n",
    "\n",
    "data = [df_emb0, df_emb1, df_emb2, df_emb3, df_emb4, df_fac, df_tab, df_sup, df_suf]"
   ]
  },
  {
   "cell_type": "markdown",
   "id": "e1256856-3585-4b1d-ab90-68d7f2e74847",
   "metadata": {},
   "source": [
    "## Gender blended featues"
   ]
  },
  {
   "cell_type": "code",
   "execution_count": 5,
   "id": "a114d862-0620-4017-8764-3cc883229a2f",
   "metadata": {},
   "outputs": [],
   "source": [
    "from catboost import CatBoostClassifier\n",
    "from sklearn.model_selection import cross_val_predict\n",
    "\n",
    "def get_blender_features(df_public, df_submit, df_features, fname):\n",
    "    y = df_public['age_q'].astype(int) + 7 * df_public['is_male'].astype(int)\n",
    "    X = df_public.merge(df_features, on=\"user_id\", how='left')\n",
    "    user_ids = X['user_id']\n",
    "    \n",
    "    del X['user_id'], X['age'], X['age_q'], X['is_male']\n",
    "    \n",
    "    \n",
    "    clf_gender = CatBoostClassifier(iterations=3000, random_seed=42, \n",
    "                                    metric_period=1000, \n",
    "                                    logging_level='Silent',\n",
    "                                    task_type=\"GPU\", \n",
    "                                    devices='0:1'\n",
    "                                   )\n",
    "    \n",
    "    # Cross val predict \n",
    "    pred = cross_val_predict(clf_gender, X, y, cv=3, method='predict_proba')\n",
    "    \n",
    "    df_train = pd.DataFrame(pred, columns=[f\"{fname}_{i}\" for i in range(pred.shape[1])])\n",
    "    df_train['user_id'] = user_ids\n",
    "    \n",
    "    # Fit clf\n",
    "    clf_gender.fit(X, y)\n",
    "    \n",
    "    # Predict submit\n",
    "    X = df_submit.merge(df_features, on=\"user_id\", how='left').fillna(0)\n",
    "    user_ids = X['user_id']\n",
    "    del X['user_id']\n",
    "    \n",
    "    pred = clf_gender.predict_proba(X)\n",
    "    df_test = pd.DataFrame(pred, columns=[f\"{fname}_{i}\" for i in range(pred.shape[1])])\n",
    "    df_test['user_id'] = user_ids\n",
    "       \n",
    "    return df_train, df_test"
   ]
  },
  {
   "cell_type": "code",
   "execution_count": 6,
   "id": "f8852de3-81bd-4cd6-9a63-10f946e5c4ce",
   "metadata": {},
   "outputs": [
    {
     "name": "stderr",
     "output_type": "stream",
     "text": [
      "9it [1:24:54, 566.05s/it]\n"
     ]
    }
   ],
   "source": [
    "def age_bucket(x):\n",
    "    return bisect.bisect_left([18,25,35,45,55,65], x)\n",
    "\n",
    "# Fill na with most common age and gender\n",
    "df_public['age_q'] = list(map(age_bucket, df_public['age']))\n",
    "df_public.loc[(df_public['age_q'] == 'NA') | df_public['age_q'].isnull(), 'age_q']  = 2\n",
    "df_public.loc[(df_public['is_male'] == 'NA') | df_public['is_male'].isnull(), 'is_male'] = 1 \n",
    "\n",
    "df_public_blend = df_public.copy()[['user_id']]\n",
    "df_submit_blend = df_submit.copy()[['user_id']]\n",
    "\n",
    "df_public_blend = df_public_blend.merge(df_agg, on='user_id', how='left')   \n",
    "df_submit_blend = df_submit_blend.merge(df_agg, on='user_id', how='left')   \n",
    "\n",
    "for i, d in tqdm(enumerate(data)):\n",
    "    df_train, df_test = get_blender_features(df_public, df_submit, d, fname=f\"f{i}\")\n",
    "    df_public_blend = df_public_blend.merge(df_train, on='user_id', how='left')\n",
    "    df_submit_blend = df_submit_blend.merge(df_test, on='user_id', how='left')"
   ]
  },
  {
   "cell_type": "code",
   "execution_count": 7,
   "id": "49fe866e-b2a9-4bf4-826e-2f4cd37cff3b",
   "metadata": {},
   "outputs": [],
   "source": [
    "df_public_blend.to_csv(\"./data/public_blend_final.csv\", index=False)\n",
    "df_submit_blend.to_csv(\"./data/submit_blend_final.csv\", index=False)"
   ]
  },
  {
   "cell_type": "markdown",
   "id": "502e0a4a-cfc9-4218-89c9-eb81a8e4bd0b",
   "metadata": {},
   "source": [
    "# Downstream"
   ]
  },
  {
   "cell_type": "code",
   "execution_count": 8,
   "id": "59497d3d-e56d-4dcc-b522-2c9659dce711",
   "metadata": {},
   "outputs": [],
   "source": [
    "cat_features = ['region_name', 'city_name', 'cpe_manufacturer_name', 'cpe_model_name', 'cpe_type_cd', 'cpe_model_os_type', 'part_of_day', 'price']"
   ]
  },
  {
   "cell_type": "markdown",
   "id": "16a66fcd-0698-4f31-8ae0-8a059ac2d724",
   "metadata": {},
   "source": [
    "# Gender"
   ]
  },
  {
   "cell_type": "code",
   "execution_count": 9,
   "id": "6ec490be-c861-4b3b-b561-2f7ccfb7bd5a",
   "metadata": {},
   "outputs": [],
   "source": [
    "df_public = pq.read_table('data/public_train.pqt').to_pandas().sort_values(by='user_id')\n",
    "\n",
    "\n",
    "X = df_public.merge(df_public_blend, on=\"user_id\", how='left')\n",
    "\n",
    "del X['user_id'], X['age'], X['is_male']"
   ]
  },
  {
   "cell_type": "code",
   "execution_count": 10,
   "id": "305377f8-2d95-4845-a971-e2bd1b19f516",
   "metadata": {},
   "outputs": [],
   "source": [
    "def age_bucket(x):\n",
    "    return bisect.bisect_left([18,25,35,45,55,65], x)\n",
    "\n",
    "y_age = df_public['age']\n",
    "y_age = np.array(list(map(age_bucket, y_age)))\n",
    "y_gender = np.array(df_public['is_male'])"
   ]
  },
  {
   "cell_type": "code",
   "execution_count": 11,
   "id": "f91510b6-e068-4b06-a703-ece8a251280e",
   "metadata": {
    "tags": []
   },
   "outputs": [],
   "source": [
    "# %%time\n",
    "\n",
    "from catboost import CatBoostClassifier, metrics\n",
    "from sklearn.model_selection import train_test_split\n",
    "from sklearn.metrics import roc_auc_score\n",
    "\n",
    "not_na_gender = (y_gender != 'NA') & (y_gender != None)\n",
    "x_train, x_test_gender, y_train, y_test_gender = train_test_split(X[not_na_gender], y_gender[not_na_gender], test_size = 0.1, random_state = 0)\n",
    "\n",
    "clf_gender = CatBoostClassifier(\n",
    "    iterations=5000,\n",
    "    custom_metric=[metrics.AUC()],\n",
    "    use_best_model=True,\n",
    "    random_seed=42, \n",
    "    task_type=\"GPU\", devices='0:1')"
   ]
  },
  {
   "cell_type": "code",
   "execution_count": 12,
   "id": "9fe21d68-b38b-44fb-9ae6-98cc720c5d7b",
   "metadata": {},
   "outputs": [
    {
     "name": "stdout",
     "output_type": "stream",
     "text": [
      "Learning rate set to 0.02297\n",
      "0:\tlearn: 0.6787711\ttest: 0.6789478\tbest: 0.6789478 (0)\ttotal: 32.2ms\tremaining: 2m 40s\n",
      "100:\tlearn: 0.4090546\ttest: 0.4206461\tbest: 0.4206461 (100)\ttotal: 2.63s\tremaining: 2m 7s\n",
      "200:\tlearn: 0.4021053\ttest: 0.4150179\tbest: 0.4150179 (200)\ttotal: 5.17s\tremaining: 2m 3s\n",
      "300:\tlearn: 0.4001286\ttest: 0.4137307\tbest: 0.4137307 (300)\ttotal: 7.72s\tremaining: 2m\n",
      "400:\tlearn: 0.3989285\ttest: 0.4131698\tbest: 0.4131675 (399)\ttotal: 10.3s\tremaining: 1m 58s\n",
      "500:\tlearn: 0.3978109\ttest: 0.4127446\tbest: 0.4127446 (500)\ttotal: 12.9s\tremaining: 1m 55s\n",
      "600:\tlearn: 0.3967959\ttest: 0.4124665\tbest: 0.4124595 (591)\ttotal: 15.3s\tremaining: 1m 52s\n",
      "700:\tlearn: 0.3957652\ttest: 0.4122551\tbest: 0.4122551 (700)\ttotal: 17.7s\tremaining: 1m 48s\n",
      "800:\tlearn: 0.3949396\ttest: 0.4121038\tbest: 0.4121013 (798)\ttotal: 20s\tremaining: 1m 44s\n",
      "900:\tlearn: 0.3942261\ttest: 0.4121566\tbest: 0.4120743 (823)\ttotal: 22.5s\tremaining: 1m 42s\n",
      "bestTest = 0.4120743144\n",
      "bestIteration = 823\n",
      "Shrink model to first 824 iterations.\n"
     ]
    },
    {
     "data": {
      "text/plain": [
       "<catboost.core.CatBoostClassifier at 0x7f026ba02b20>"
      ]
     },
     "execution_count": 12,
     "metadata": {},
     "output_type": "execute_result"
    }
   ],
   "source": [
    "clf_gender.fit(x_train, y_train, metric_period=100, early_stopping_rounds=100, eval_set=(x_test_gender, y_test_gender), cat_features=cat_features)"
   ]
  },
  {
   "cell_type": "code",
   "execution_count": 13,
   "id": "051bed94-4d10-4767-a774-269f2e0b5f57",
   "metadata": {},
   "outputs": [
    {
     "name": "stdout",
     "output_type": "stream",
     "text": [
      "GINI по полу 0.787\n"
     ]
    }
   ],
   "source": [
    "print(f'GINI по полу {2 * roc_auc_score(y_test_gender, clf_gender.predict_proba(x_test_gender)[:,1]) - 1:2.3f}')"
   ]
  },
  {
   "cell_type": "markdown",
   "id": "b6f90007-39ca-413f-bb25-4fb6c4567417",
   "metadata": {},
   "source": [
    "# Age"
   ]
  },
  {
   "cell_type": "code",
   "execution_count": 14,
   "id": "37c4697a-1ad9-4b11-904a-5d2cae5c0945",
   "metadata": {},
   "outputs": [
    {
     "name": "stdout",
     "output_type": "stream",
     "text": [
      "CPU times: user 4.6 s, sys: 3.57 s, total: 8.17 s\n",
      "Wall time: 7.12 s\n"
     ]
    }
   ],
   "source": [
    "%%time\n",
    "\n",
    "from sklearn.metrics import classification_report\n",
    "\n",
    "not_na_age = ~np.isnan(y_age) \n",
    "x_train, x_test_age, y_train, y_test_age = train_test_split(X[not_na_age], y_age[not_na_age], test_size = 0.1, random_state = 0)\n",
    "\n",
    "clf_age = CatBoostClassifier(iterations=5000,\n",
    "    custom_metric=[metrics.Accuracy()],\n",
    "    use_best_model=True,\n",
    "    random_seed=42, task_type=\"GPU\", devices='0:1')"
   ]
  },
  {
   "cell_type": "code",
   "execution_count": 15,
   "id": "b350a12b-d396-4821-a55a-68465a9eefe4",
   "metadata": {},
   "outputs": [
    {
     "name": "stdout",
     "output_type": "stream",
     "text": [
      "Learning rate set to 0.090642\n",
      "0:\tlearn: 1.8256770\ttest: 1.8267010\tbest: 1.8267010 (0)\ttotal: 53ms\tremaining: 4m 24s\n",
      "100:\tlearn: 1.1802840\ttest: 1.1980619\tbest: 1.1980619 (100)\ttotal: 3.11s\tremaining: 2m 30s\n",
      "200:\tlearn: 1.1696044\ttest: 1.1936234\tbest: 1.1936234 (200)\ttotal: 5.91s\tremaining: 2m 21s\n",
      "300:\tlearn: 1.1627221\ttest: 1.1917731\tbest: 1.1917731 (300)\ttotal: 8.64s\tremaining: 2m 14s\n",
      "400:\tlearn: 1.1573185\ttest: 1.1908105\tbest: 1.1908105 (400)\ttotal: 11.4s\tremaining: 2m 10s\n",
      "500:\tlearn: 1.1528642\ttest: 1.1901746\tbest: 1.1901746 (500)\ttotal: 14s\tremaining: 2m 5s\n",
      "600:\tlearn: 1.1489613\ttest: 1.1897725\tbest: 1.1897710 (598)\ttotal: 16.5s\tremaining: 2m\n",
      "700:\tlearn: 1.1453607\ttest: 1.1893414\tbest: 1.1893374 (698)\ttotal: 19.1s\tremaining: 1m 56s\n",
      "800:\tlearn: 1.1420315\ttest: 1.1890541\tbest: 1.1890378 (798)\ttotal: 21.5s\tremaining: 1m 52s\n",
      "900:\tlearn: 1.1388866\ttest: 1.1889693\tbest: 1.1889675 (896)\ttotal: 24.1s\tremaining: 1m 49s\n",
      "1000:\tlearn: 1.1358632\ttest: 1.1888130\tbest: 1.1887883 (991)\ttotal: 26.6s\tremaining: 1m 46s\n",
      "1100:\tlearn: 1.1328751\ttest: 1.1884643\tbest: 1.1884643 (1100)\ttotal: 29.1s\tremaining: 1m 42s\n",
      "1200:\tlearn: 1.1300154\ttest: 1.1883171\tbest: 1.1883139 (1190)\ttotal: 31.5s\tremaining: 1m 39s\n",
      "1300:\tlearn: 1.1269799\ttest: 1.1881911\tbest: 1.1881848 (1296)\ttotal: 34.1s\tremaining: 1m 36s\n",
      "1400:\tlearn: 1.1240087\ttest: 1.1880479\tbest: 1.1880142 (1393)\ttotal: 36.6s\tremaining: 1m 33s\n",
      "1500:\tlearn: 1.1212272\ttest: 1.1878407\tbest: 1.1878252 (1492)\ttotal: 39.1s\tremaining: 1m 31s\n",
      "1600:\tlearn: 1.1185766\ttest: 1.1877381\tbest: 1.1877183 (1597)\ttotal: 41.5s\tremaining: 1m 28s\n",
      "1700:\tlearn: 1.1160568\ttest: 1.1876092\tbest: 1.1875984 (1687)\ttotal: 44s\tremaining: 1m 25s\n",
      "bestTest = 1.18759838\n",
      "bestIteration = 1687\n",
      "Shrink model to first 1688 iterations.\n"
     ]
    },
    {
     "data": {
      "text/plain": [
       "<catboost.core.CatBoostClassifier at 0x7f02c00ff700>"
      ]
     },
     "execution_count": 15,
     "metadata": {},
     "output_type": "execute_result"
    }
   ],
   "source": [
    "clf_age.fit(x_train, y_train, metric_period=100, eval_set=(x_test_age, y_test_age), early_stopping_rounds=100, cat_features=cat_features)"
   ]
  },
  {
   "cell_type": "code",
   "execution_count": 17,
   "id": "2cc69313-a872-4337-aefa-7ec786d9666c",
   "metadata": {},
   "outputs": [
    {
     "name": "stdout",
     "output_type": "stream",
     "text": [
      "              precision    recall  f1-score   support\n",
      "\n",
      "         <18       0.00      0.00      0.00       113\n",
      "       18-25       0.57      0.45      0.51      3300\n",
      "       25-34       0.55      0.63      0.59      8690\n",
      "       35-44       0.45      0.56      0.50      7748\n",
      "       45-54       0.42      0.31      0.36      4275\n",
      "       55-65       0.44      0.33      0.38      2343\n",
      "         65+       0.62      0.04      0.08       531\n",
      "\n",
      "    accuracy                           0.50     27000\n",
      "   macro avg       0.44      0.33      0.34     27000\n",
      "weighted avg       0.49      0.50      0.49     27000\n",
      "\n"
     ]
    },
    {
     "name": "stderr",
     "output_type": "stream",
     "text": [
      "/home/morlov/.local/share/virtualenvs/pytorch-lifestream-1iBTwtzi/lib/python3.8/site-packages/sklearn/metrics/_classification.py:1334: UndefinedMetricWarning: Precision and F-score are ill-defined and being set to 0.0 in labels with no predicted samples. Use `zero_division` parameter to control this behavior.\n",
      "  _warn_prf(average, modifier, msg_start, len(result))\n",
      "/home/morlov/.local/share/virtualenvs/pytorch-lifestream-1iBTwtzi/lib/python3.8/site-packages/sklearn/metrics/_classification.py:1334: UndefinedMetricWarning: Precision and F-score are ill-defined and being set to 0.0 in labels with no predicted samples. Use `zero_division` parameter to control this behavior.\n",
      "  _warn_prf(average, modifier, msg_start, len(result))\n",
      "/home/morlov/.local/share/virtualenvs/pytorch-lifestream-1iBTwtzi/lib/python3.8/site-packages/sklearn/metrics/_classification.py:1334: UndefinedMetricWarning: Precision and F-score are ill-defined and being set to 0.0 in labels with no predicted samples. Use `zero_division` parameter to control this behavior.\n",
      "  _warn_prf(average, modifier, msg_start, len(result))\n"
     ]
    }
   ],
   "source": [
    "print(classification_report(y_test_age, clf_age.predict(x_test_age), \\\n",
    "                            target_names = ['<18','18-25','25-34', '35-44', '45-54', '55-65', '65+']))"
   ]
  },
  {
   "cell_type": "code",
   "execution_count": null,
   "id": "e2de0fad-0751-4e50-9459-008092a75423",
   "metadata": {},
   "outputs": [],
   "source": [
    "0.788 + 2*0.48"
   ]
  },
  {
   "cell_type": "markdown",
   "id": "1a820fac-fc1c-4508-9fcb-ed2d11665e4f",
   "metadata": {},
   "source": [
    "# Train on full dataset"
   ]
  },
  {
   "cell_type": "code",
   "execution_count": 18,
   "id": "85dc5a0c-3903-4164-9087-fff5a0a1bb3f",
   "metadata": {},
   "outputs": [
    {
     "name": "stdout",
     "output_type": "stream",
     "text": [
      "Learning rate set to 0.009269\n",
      "0:\tlearn: 0.6872385\ttotal: 26.9ms\tremaining: 1m 20s\n",
      "100:\tlearn: 0.4499512\ttotal: 2.48s\tremaining: 1m 11s\n",
      "200:\tlearn: 0.4151900\ttotal: 4.81s\tremaining: 1m 6s\n",
      "300:\tlearn: 0.4071764\ttotal: 7.18s\tremaining: 1m 4s\n",
      "400:\tlearn: 0.4043465\ttotal: 9.66s\tremaining: 1m 2s\n",
      "500:\tlearn: 0.4028827\ttotal: 12.2s\tremaining: 1m\n",
      "600:\tlearn: 0.4019410\ttotal: 14.8s\tremaining: 59s\n",
      "700:\tlearn: 0.4012853\ttotal: 17.3s\tremaining: 56.6s\n",
      "800:\tlearn: 0.4007371\ttotal: 19.8s\tremaining: 54.2s\n",
      "900:\tlearn: 0.4003217\ttotal: 22.2s\tremaining: 51.8s\n",
      "1000:\tlearn: 0.3999302\ttotal: 24.7s\tremaining: 49.4s\n",
      "1100:\tlearn: 0.3995715\ttotal: 27.2s\tremaining: 46.9s\n",
      "1200:\tlearn: 0.3992247\ttotal: 29.7s\tremaining: 44.4s\n",
      "1300:\tlearn: 0.3988823\ttotal: 32s\tremaining: 41.7s\n",
      "1400:\tlearn: 0.3984853\ttotal: 34.4s\tremaining: 39.2s\n",
      "1500:\tlearn: 0.3980644\ttotal: 36.8s\tremaining: 36.7s\n",
      "1600:\tlearn: 0.3976859\ttotal: 39.1s\tremaining: 34.2s\n",
      "1700:\tlearn: 0.3973236\ttotal: 41.4s\tremaining: 31.6s\n",
      "1800:\tlearn: 0.3970120\ttotal: 43.8s\tremaining: 29.2s\n",
      "1900:\tlearn: 0.3967152\ttotal: 46.2s\tremaining: 26.7s\n",
      "2000:\tlearn: 0.3964038\ttotal: 48.5s\tremaining: 24.2s\n",
      "2100:\tlearn: 0.3961350\ttotal: 50.8s\tremaining: 21.7s\n",
      "2200:\tlearn: 0.3958558\ttotal: 53.2s\tremaining: 19.3s\n",
      "2300:\tlearn: 0.3955941\ttotal: 55.5s\tremaining: 16.9s\n",
      "2400:\tlearn: 0.3953403\ttotal: 57.8s\tremaining: 14.4s\n",
      "2500:\tlearn: 0.3951033\ttotal: 1m\tremaining: 12s\n",
      "2600:\tlearn: 0.3948448\ttotal: 1m 2s\tremaining: 9.58s\n",
      "2700:\tlearn: 0.3946137\ttotal: 1m 4s\tremaining: 7.17s\n",
      "2800:\tlearn: 0.3943925\ttotal: 1m 7s\tremaining: 4.77s\n",
      "2900:\tlearn: 0.3941824\ttotal: 1m 9s\tremaining: 2.37s\n",
      "2999:\tlearn: 0.3939627\ttotal: 1m 11s\tremaining: 0us\n",
      "CPU times: user 3min 15s, sys: 15.3 s, total: 3min 30s\n",
      "Wall time: 1min 17s\n"
     ]
    },
    {
     "data": {
      "text/plain": [
       "<catboost.core.CatBoostClassifier at 0x7f0281d5cd90>"
      ]
     },
     "execution_count": 18,
     "metadata": {},
     "output_type": "execute_result"
    }
   ],
   "source": [
    "%%time\n",
    "clf_gender = CatBoostClassifier(iterations=3000,random_seed=0, task_type=\"GPU\", devices='0:1')\n",
    "not_na_gender = (y_gender != 'NA') & (y_gender != None)\n",
    "clf_gender.fit(X[not_na_gender], y_gender[not_na_gender], metric_period=100, cat_features=cat_features)"
   ]
  },
  {
   "cell_type": "code",
   "execution_count": 19,
   "id": "222addf5-d653-42d2-916a-b3e0e882e538",
   "metadata": {},
   "outputs": [
    {
     "name": "stdout",
     "output_type": "stream",
     "text": [
      "Learning rate set to 0.081374\n",
      "0:\tlearn: 1.7083706\ttotal: 40.9ms\tremaining: 2m 2s\n",
      "100:\tlearn: 1.1675246\ttotal: 2.87s\tremaining: 1m 22s\n",
      "200:\tlearn: 1.1580254\ttotal: 5.46s\tremaining: 1m 16s\n",
      "300:\tlearn: 1.1521440\ttotal: 8.06s\tremaining: 1m 12s\n",
      "400:\tlearn: 1.1476413\ttotal: 10.5s\tremaining: 1m 7s\n",
      "500:\tlearn: 1.1434085\ttotal: 12.9s\tremaining: 1m 4s\n",
      "600:\tlearn: 1.1398736\ttotal: 15.3s\tremaining: 1m\n",
      "700:\tlearn: 1.1364936\ttotal: 17.7s\tremaining: 57.9s\n",
      "800:\tlearn: 1.1336724\ttotal: 20s\tremaining: 54.9s\n",
      "900:\tlearn: 1.1306032\ttotal: 22.3s\tremaining: 52s\n",
      "1000:\tlearn: 1.1280392\ttotal: 24.6s\tremaining: 49.1s\n",
      "1100:\tlearn: 1.1254274\ttotal: 26.8s\tremaining: 46.2s\n",
      "1200:\tlearn: 1.1230501\ttotal: 29.1s\tremaining: 43.6s\n",
      "1300:\tlearn: 1.1204887\ttotal: 31.4s\tremaining: 41s\n",
      "1400:\tlearn: 1.1181876\ttotal: 33.7s\tremaining: 38.4s\n",
      "1500:\tlearn: 1.1159490\ttotal: 36s\tremaining: 36s\n",
      "1600:\tlearn: 1.1133869\ttotal: 38.3s\tremaining: 33.5s\n",
      "1700:\tlearn: 1.1109227\ttotal: 40.6s\tremaining: 31s\n",
      "1800:\tlearn: 1.1086981\ttotal: 42.9s\tremaining: 28.6s\n",
      "1900:\tlearn: 1.1067089\ttotal: 45.1s\tremaining: 26.1s\n",
      "2000:\tlearn: 1.1045661\ttotal: 47.5s\tremaining: 23.7s\n",
      "2100:\tlearn: 1.1024877\ttotal: 49.9s\tremaining: 21.3s\n",
      "2200:\tlearn: 1.1004522\ttotal: 52.2s\tremaining: 18.9s\n",
      "2300:\tlearn: 1.0985109\ttotal: 54.5s\tremaining: 16.5s\n",
      "2400:\tlearn: 1.0965082\ttotal: 56.7s\tremaining: 14.2s\n",
      "2500:\tlearn: 1.0945225\ttotal: 59.1s\tremaining: 11.8s\n",
      "2600:\tlearn: 1.0925633\ttotal: 1m 1s\tremaining: 9.43s\n",
      "2700:\tlearn: 1.0907298\ttotal: 1m 3s\tremaining: 7.06s\n",
      "2800:\tlearn: 1.0889900\ttotal: 1m 5s\tremaining: 4.69s\n",
      "2900:\tlearn: 1.0872156\ttotal: 1m 8s\tremaining: 2.33s\n",
      "2999:\tlearn: 1.0854983\ttotal: 1m 10s\tremaining: 0us\n",
      "CPU times: user 6min 40s, sys: 55.6 s, total: 7min 35s\n",
      "Wall time: 1min 15s\n"
     ]
    },
    {
     "data": {
      "text/plain": [
       "<catboost.core.CatBoostClassifier at 0x7f026d606a90>"
      ]
     },
     "execution_count": 19,
     "metadata": {},
     "output_type": "execute_result"
    }
   ],
   "source": [
    "%%time\n",
    "clf_age = CatBoostClassifier(iterations=3000, random_seed=0, task_type=\"GPU\", devices='0:1')\n",
    "not_na_age = ~np.isnan(y_age) & (y_age != 0)\n",
    "clf_age.fit(X[not_na_age], y_age[not_na_age], metric_period=100, cat_features=cat_features)"
   ]
  },
  {
   "cell_type": "markdown",
   "id": "0d03b407-5f0c-4f68-8b46-058b219b9062",
   "metadata": {},
   "source": [
    "# Score submit "
   ]
  },
  {
   "cell_type": "raw",
   "id": "8dd4f284-8552-49d6-9586-3771c1bd375a",
   "metadata": {},
   "source": [
    "(2 * f1_weighted(по 6 возрастным бакетам) + gini)"
   ]
  },
  {
   "cell_type": "code",
   "execution_count": 20,
   "id": "be52f120-770b-4c49-882e-506f0a373785",
   "metadata": {},
   "outputs": [
    {
     "name": "stdout",
     "output_type": "stream",
     "text": [
      "CPU times: user 3.18 s, sys: 2.8 s, total: 5.98 s\n",
      "Wall time: 4.63 s\n"
     ]
    }
   ],
   "source": [
    "%%time\n",
    "\n",
    "df_submit = pq.read_table('data/submit_2.pqt').to_pandas().sort_values(by='user_id')\n",
    "X_submit = df_submit.merge(df_submit_blend, on=\"user_id\")"
   ]
  },
  {
   "cell_type": "code",
   "execution_count": 21,
   "id": "e40e4b33-59c1-41e5-9baa-c8a4594901e7",
   "metadata": {},
   "outputs": [
    {
     "data": {
      "text/plain": [
       "True"
      ]
     },
     "execution_count": 21,
     "metadata": {},
     "output_type": "execute_result"
    }
   ],
   "source": [
    "list(X_submit['user_id']) == list(df_submit['user_id'])"
   ]
  },
  {
   "cell_type": "code",
   "execution_count": 22,
   "id": "ffde4d06-0fa6-4db0-a73c-a0f7dc7c52dc",
   "metadata": {},
   "outputs": [],
   "source": [
    "del X_submit['user_id']"
   ]
  },
  {
   "cell_type": "code",
   "execution_count": 23,
   "id": "cf8b15f7-4351-49cb-acf1-4ba708b94365",
   "metadata": {},
   "outputs": [
    {
     "data": {
      "text/html": [
       "<div>\n",
       "<style scoped>\n",
       "    .dataframe tbody tr th:only-of-type {\n",
       "        vertical-align: middle;\n",
       "    }\n",
       "\n",
       "    .dataframe tbody tr th {\n",
       "        vertical-align: top;\n",
       "    }\n",
       "\n",
       "    .dataframe thead th {\n",
       "        text-align: right;\n",
       "    }\n",
       "</style>\n",
       "<table border=\"1\" class=\"dataframe\">\n",
       "  <thead>\n",
       "    <tr style=\"text-align: right;\">\n",
       "      <th></th>\n",
       "      <th>user_id</th>\n",
       "      <th>age</th>\n",
       "      <th>is_male</th>\n",
       "    </tr>\n",
       "  </thead>\n",
       "  <tbody>\n",
       "    <tr>\n",
       "      <th>0</th>\n",
       "      <td>6</td>\n",
       "      <td>2</td>\n",
       "      <td>0.084305</td>\n",
       "    </tr>\n",
       "    <tr>\n",
       "      <th>7</th>\n",
       "      <td>7</td>\n",
       "      <td>3</td>\n",
       "      <td>0.933996</td>\n",
       "    </tr>\n",
       "    <tr>\n",
       "      <th>9</th>\n",
       "      <td>9</td>\n",
       "      <td>2</td>\n",
       "      <td>0.063537</td>\n",
       "    </tr>\n",
       "    <tr>\n",
       "      <th>10</th>\n",
       "      <td>10</td>\n",
       "      <td>3</td>\n",
       "      <td>0.031888</td>\n",
       "    </tr>\n",
       "    <tr>\n",
       "      <th>4</th>\n",
       "      <td>11</td>\n",
       "      <td>5</td>\n",
       "      <td>0.927905</td>\n",
       "    </tr>\n",
       "  </tbody>\n",
       "</table>\n",
       "</div>"
      ],
      "text/plain": [
       "    user_id  age   is_male\n",
       "0         6    2  0.084305\n",
       "7         7    3  0.933996\n",
       "9         9    2  0.063537\n",
       "10       10    3  0.031888\n",
       "4        11    5  0.927905"
      ]
     },
     "execution_count": 23,
     "metadata": {},
     "output_type": "execute_result"
    }
   ],
   "source": [
    "df_submit['age'] = clf_age.predict(X_submit)\n",
    "df_submit['is_male'] = clf_gender.predict_proba(X_submit)[:, 1]\n",
    "df_submit.head()"
   ]
  },
  {
   "cell_type": "code",
   "execution_count": 24,
   "id": "2ee204ff-f3d5-4f35-a62c-ada032448cb2",
   "metadata": {},
   "outputs": [],
   "source": [
    "df_submit.to_csv(f'data/submission_blnd_final.csv', index = False)"
   ]
  },
  {
   "cell_type": "code",
   "execution_count": 25,
   "id": "0454b889-bc78-48b2-9efc-ae4b3cb7c029",
   "metadata": {},
   "outputs": [
    {
     "data": {
      "text/plain": [
       "2    52885\n",
       "3    51510\n",
       "4    16992\n",
       "1    13809\n",
       "5     9273\n",
       "6      255\n",
       "Name: age, dtype: int64"
      ]
     },
     "execution_count": 25,
     "metadata": {},
     "output_type": "execute_result"
    }
   ],
   "source": [
    "df_submit['age'].value_counts()"
   ]
  },
  {
   "cell_type": "code",
   "execution_count": 68,
   "id": "80b83f32-0390-4d11-a4f5-727eb1398d2a",
   "metadata": {},
   "outputs": [
    {
     "data": {
      "text/plain": [
       "351"
      ]
     },
     "execution_count": 68,
     "metadata": {},
     "output_type": "execute_result"
    }
   ],
   "source": [
    "sum(df_public.age < 18)"
   ]
  },
  {
   "cell_type": "code",
   "execution_count": null,
   "id": "d113e67c-4dd6-4452-bf03-0182d3543cfd",
   "metadata": {},
   "outputs": [],
   "source": []
  }
 ],
 "metadata": {
  "kernelspec": {
   "display_name": "ptls",
   "language": "python",
   "name": "ptls"
  },
  "language_info": {
   "codemirror_mode": {
    "name": "ipython",
    "version": 3
   },
   "file_extension": ".py",
   "mimetype": "text/x-python",
   "name": "python",
   "nbconvert_exporter": "python",
   "pygments_lexer": "ipython3",
   "version": "3.8.10"
  }
 },
 "nbformat": 4,
 "nbformat_minor": 5
}
