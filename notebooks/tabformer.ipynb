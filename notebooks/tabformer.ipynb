{
 "cells": [
  {
   "cell_type": "code",
   "execution_count": 1,
   "id": "7af790b9-f4cc-40e0-a28a-7f11fc403b83",
   "metadata": {},
   "outputs": [],
   "source": [
    "import pandas as pd\n",
    "import pyarrow as pa\n",
    "import pyarrow.parquet as pq"
   ]
  },
  {
   "cell_type": "code",
   "execution_count": 2,
   "id": "98cf7e53-e464-46cf-bfc7-4e91b71abb44",
   "metadata": {},
   "outputs": [],
   "source": [
    "%load_ext autoreload\n",
    "%autoreload 2"
   ]
  },
  {
   "cell_type": "markdown",
   "id": "5d9d6b6b-7a15-4158-8977-ed5c1ec5a3da",
   "metadata": {},
   "source": [
    "### Pretrain datasets"
   ]
  },
  {
   "cell_type": "code",
   "execution_count": 3,
   "id": "9604e3d9-1c92-4c3b-b799-698a1e7cb026",
   "metadata": {},
   "outputs": [
    {
     "name": "stderr",
     "output_type": "stream",
     "text": [
      "100%|█████████████████████████████████████████████████████████████████████████████████| 1/1 [00:04<00:00,  4.19s/it]"
     ]
    },
    {
     "name": "stdout",
     "output_type": "stream",
     "text": [
      "CPU times: user 21.3 s, sys: 25.6 s, total: 47 s\n",
      "Wall time: 20.6 s\n"
     ]
    },
    {
     "name": "stderr",
     "output_type": "stream",
     "text": [
      "\n"
     ]
    }
   ],
   "source": [
    "%%time\n",
    "\n",
    "import tqdm, torch\n",
    "\n",
    "df_trans = pq.read_table('data/trans_filtered.pq').select(['user_id', 'url_host']).to_pandas()\n",
    "\n",
    "cols = ['url_host']\n",
    "\n",
    "for col in tqdm.tqdm(cols):\n",
    "    df_trans[col] = df_trans[col].apply(torch.tensor)"
   ]
  },
  {
   "cell_type": "code",
   "execution_count": 4,
   "id": "fbd7a8da-f0c8-4af6-be82-b891249003ba",
   "metadata": {},
   "outputs": [],
   "source": [
    "from sklearn.model_selection import train_test_split\n",
    "\n",
    "df_train_trans, df_valid_trans = train_test_split(df_trans, test_size = 0.1, random_state = 42)\n",
    "df_train_trans = df_train_trans.to_dict(orient='records')\n",
    "df_valid_trans = df_valid_trans.to_dict(orient='records')"
   ]
  },
  {
   "cell_type": "code",
   "execution_count": 5,
   "id": "39b04931-64ba-4817-9cba-a124c5382ff7",
   "metadata": {},
   "outputs": [
    {
     "data": {
      "text/plain": [
       "(373785, 41532)"
      ]
     },
     "execution_count": 5,
     "metadata": {},
     "output_type": "execute_result"
    }
   ],
   "source": [
    "len(df_train_trans), len(df_valid_trans)"
   ]
  },
  {
   "cell_type": "markdown",
   "id": "7f223e8d-dfde-4c4b-9c71-6cf3c744c0a9",
   "metadata": {},
   "source": [
    "## Train tabformer"
   ]
  },
  {
   "cell_type": "markdown",
   "id": "82cc0f45-6d4c-4026-ab33-bb58d1c5a5c7",
   "metadata": {},
   "source": [
    "### Model definition"
   ]
  },
  {
   "cell_type": "code",
   "execution_count": 6,
   "id": "a491a9e2-62f6-41f8-9010-0cec157dbded",
   "metadata": {},
   "outputs": [
    {
     "name": "stderr",
     "output_type": "stream",
     "text": [
      "/home/morlov/.local/share/virtualenvs/pytorch-lifestream-1iBTwtzi/lib/python3.8/site-packages/ptls/frames/tabformer/tabformer_module.py:79: UserWarning: With Tabformer model set `in` value in `embeddings`parameter of `trx_encoder` equal to actual number of unique feature values + 1\n",
      "  warnings.warn(\"With Tabformer model set `in` value in `embeddings`parameter of `trx_encoder` equal to actual number of unique feature values + 1\")\n"
     ]
    }
   ],
   "source": [
    "import torch\n",
    "import pytorch_lightning as pl\n",
    "from functools import partial\n",
    "from ptls.nn import TrxEncoder, LongformerEncoder, TabFormerFeatureEncoder, TransformerEncoder\n",
    "from ptls.nn import PBLinear, PBL2Norm, PBLayerNorm\n",
    "from ptls.frames.bert import MLMPretrainModule\n",
    "from ptls.frames.tabformer.tabformer_module import TabformerPretrainModule\n",
    "\n",
    "trx_encoder_params = dict(\n",
    "    embeddings_noise=0.003,\n",
    "    embeddings={ \n",
    "        'url_host': {'in': 132025, 'out': 512}\n",
    "    }\n",
    ")\n",
    "\n",
    "\n",
    "trx_encoder = TrxEncoder(**trx_encoder_params)\n",
    "feature_encoder = TabFormerFeatureEncoder(n_cols=1, emb_dim=512)\n",
    "seq_encoder = LongformerEncoder(input_size=512, num_attention_heads=2, num_hidden_layers=4, max_position_embeddings=1024)\n",
    "\n",
    "model = TabformerPretrainModule(\n",
    "    trx_encoder=trx_encoder,\n",
    "    seq_encoder=seq_encoder,\n",
    "    feature_encoder=feature_encoder,\n",
    "    total_steps=200001,\n",
    "    mask_prob=0.15\n",
    ")"
   ]
  },
  {
   "cell_type": "markdown",
   "id": "b5c351fd-524a-4c32-a394-a679734d92dc",
   "metadata": {},
   "source": [
    "### Dataloader"
   ]
  },
  {
   "cell_type": "code",
   "execution_count": 7,
   "id": "3f1ea07f-9532-4c85-b961-377ad1ee16fe",
   "metadata": {},
   "outputs": [],
   "source": [
    "from ptls.data_load.datasets import MemoryMapDataset\n",
    "from ptls.data_load.iterable_processing.feature_filter import FeatureFilter\n",
    "from ptls.frames.coles.split_strategy import SampleSlices\n",
    "from ptls.frames import PtlsDataModule\n",
    "from ptls.frames.bert import MlmDataset\n",
    "from ptls.frames.tabformer.tabformer_dataset import TabformerDataset\n",
    "\n",
    "\n",
    "drop_feature_names = ['request_cnt', 'part_of_day', 'event_time']\n",
    "\n",
    "train_ds = MemoryMapDataset(data=df_train_trans, i_filters=[FeatureFilter(drop_feature_names=drop_feature_names)])\n",
    "valid_ds = MemoryMapDataset(data=df_valid_trans, i_filters=[FeatureFilter(drop_feature_names=drop_feature_names)])\n",
    "\n",
    "train_data=TabformerDataset(train_ds, min_len=25, max_len=512)\n",
    "valid_data=TabformerDataset(valid_ds, min_len=25, max_len=512)\n",
    "\n",
    "\n",
    "dl = PtlsDataModule(train_data=train_data, valid_data=valid_data, train_num_workers=4, train_batch_size=8)"
   ]
  },
  {
   "cell_type": "markdown",
   "id": "faaf7ed2-9782-4439-8a86-32808d4fff8d",
   "metadata": {},
   "source": [
    "### Trainer"
   ]
  },
  {
   "cell_type": "code",
   "execution_count": 8,
   "id": "0c2b3322-7818-44a6-adf8-a9322a315b68",
   "metadata": {},
   "outputs": [
    {
     "name": "stderr",
     "output_type": "stream",
     "text": [
      "GPU available: True, used: True\n",
      "TPU available: False, using: 0 TPU cores\n",
      "IPU available: False, using: 0 IPUs\n",
      "HPU available: False, using: 0 HPUs\n"
     ]
    }
   ],
   "source": [
    "import torch\n",
    "import pytorch_lightning as pl\n",
    "\n",
    "import logging\n",
    "\n",
    "trainer = pl.Trainer(\n",
    "    max_steps=200000,\n",
    "    limit_val_batches=100,\n",
    "    gpus=[0],\n",
    "    enable_progress_bar=False,\n",
    ")"
   ]
  },
  {
   "cell_type": "code",
   "execution_count": 9,
   "id": "70e8672a-97cd-4cb9-9ad4-ad3d1e88d69f",
   "metadata": {
    "tags": []
   },
   "outputs": [
    {
     "name": "stdout",
     "output_type": "stream",
     "text": [
      "logger.version = 79\n"
     ]
    },
    {
     "name": "stderr",
     "output_type": "stream",
     "text": [
      "LOCAL_RANK: 0 - CUDA_VISIBLE_DEVICES: [0,1]\n",
      "\n",
      "  | Name                 | Type                    | Params\n",
      "-----------------------------------------------------------------\n",
      "0 | trx_encoder          | TrxEncoder              | 67.6 M\n",
      "1 | feature_encoder      | TabFormerFeatureEncoder | 1.4 M \n",
      "2 | head                 | ModuleList              | 67.7 M\n",
      "3 | _seq_encoder         | LongformerEncoder       | 8.4 M \n",
      "4 | loss                 | CrossEntropyLoss        | 0     \n",
      "5 | train_tabformer_loss | MeanMetric              | 0     \n",
      "6 | valid_tabformer_loss | MeanMetric              | 0     \n",
      "7 | lin_proj             | Sequential              | 263 K \n",
      "-----------------------------------------------------------------\n",
      "145 M     Trainable params\n",
      "0         Non-trainable params\n",
      "145 M     Total params\n",
      "581.560   Total estimated model params size (MB)\n"
     ]
    },
    {
     "name": "stdout",
     "output_type": "stream",
     "text": [
      "{'tabformer/loss': tensor(4.5296, device='cuda:0'), 'tabformer/valid_tabformer_loss': tensor(4.4922, device='cuda:0'), 'tabformer/train_tabformer_loss': tensor(4.4722, device='cuda:0')}\n"
     ]
    },
    {
     "name": "stderr",
     "output_type": "stream",
     "text": [
      "/home/morlov/.local/share/virtualenvs/pytorch-lifestream-1iBTwtzi/lib/python3.8/site-packages/pytorch_lightning/trainer/trainer.py:726: UserWarning: Detected KeyboardInterrupt, attempting graceful shutdown...\n",
      "  rank_zero_warn(\"Detected KeyboardInterrupt, attempting graceful shutdown...\")\n"
     ]
    }
   ],
   "source": [
    "print(f'logger.version = {trainer.logger.version}')\n",
    "trainer.fit(model, dl)\n",
    "print(trainer.logged_metrics)"
   ]
  },
  {
   "cell_type": "code",
   "execution_count": 10,
   "id": "64b7e9fd-84df-4f10-9a0e-8c08dc8ca610",
   "metadata": {},
   "outputs": [],
   "source": [
    "torch.save(model.state_dict(), \"tabformer-emb.pt\")"
   ]
  },
  {
   "cell_type": "markdown",
   "id": "8ea85365-d6fa-4c81-8ab3-5f4cf98b9438",
   "metadata": {},
   "source": [
    "# Inference"
   ]
  },
  {
   "cell_type": "code",
   "execution_count": 11,
   "id": "81c0849f-92b6-4a6e-9b22-656cf8344397",
   "metadata": {},
   "outputs": [
    {
     "data": {
      "text/plain": [
       "<All keys matched successfully>"
      ]
     },
     "execution_count": 11,
     "metadata": {},
     "output_type": "execute_result"
    }
   ],
   "source": [
    "model.load_state_dict(torch.load(\"tabformer-emb.pt\"))"
   ]
  },
  {
   "cell_type": "code",
   "execution_count": 12,
   "id": "357a9c4e-778f-4a1d-a5ce-4f7fe3b97045",
   "metadata": {},
   "outputs": [
    {
     "name": "stderr",
     "output_type": "stream",
     "text": [
      "100%|█████████████████████████████████████████████████████████████████████████████████| 1/1 [00:08<00:00,  8.98s/it]"
     ]
    },
    {
     "name": "stdout",
     "output_type": "stream",
     "text": [
      "CPU times: user 30.6 s, sys: 42.7 s, total: 1min 13s\n",
      "Wall time: 47.5 s\n"
     ]
    },
    {
     "name": "stderr",
     "output_type": "stream",
     "text": [
      "\n"
     ]
    }
   ],
   "source": [
    "%%time\n",
    "\n",
    "import tqdm, torch\n",
    "\n",
    "df_trans = pq.read_table('data/trans_filtered.pq').to_pandas()\n",
    "\n",
    "cols = ['url_host']\n",
    "\n",
    "for col in tqdm.tqdm(cols):\n",
    "    df_trans[col] = df_trans[col].apply(torch.tensor)"
   ]
  },
  {
   "cell_type": "code",
   "execution_count": 13,
   "id": "525553f1-6983-45c3-b6cd-9d9a50ab6c04",
   "metadata": {},
   "outputs": [
    {
     "name": "stderr",
     "output_type": "stream",
     "text": [
      "3245it [01:17, 41.62it/s]\n"
     ]
    },
    {
     "name": "stdout",
     "output_type": "stream",
     "text": [
      "CPU times: user 22min 34s, sys: 29.3 s, total: 23min 4s\n",
      "Wall time: 11min 6s\n"
     ]
    }
   ],
   "source": [
    "%%time\n",
    "import tqdm\n",
    "from ptls.data_load.datasets import inference_data_loader\n",
    "import numpy as np\n",
    "\n",
    "def pooling_inference(model, dl, device='cuda:0'):\n",
    "    \n",
    "    model.to(device)\n",
    "    X = []\n",
    "    for batch in tqdm.tqdm(dl):\n",
    "        with torch.no_grad():\n",
    "            x = model.trx_encoder(batch.to(device)).payload\n",
    "            out_max = torch.max(x, dim=1)[0]\n",
    "            out_min = torch.min(x, dim=1)[0]\n",
    "            out_mean = torch.mean(x, dim=1)\n",
    "            out_std = torch.std(x, dim=1)\n",
    "            features = torch.cat([out_max, out_min, out_mean, out_std], dim=1)      \n",
    "            X += [features]\n",
    "    return X\n",
    "\n",
    "def embed_inference(model, dl, device='cuda:0'):\n",
    "    \n",
    "    model.to(device)\n",
    "    X = []\n",
    "    for batch in tqdm.tqdm(dl):\n",
    "        with torch.no_grad():\n",
    "            z = model.trx_encoder(batch.to(device))\n",
    "            features = model.seq_encoder(z)\n",
    "            X += [features]\n",
    "    return X\n",
    "\n",
    "dl = inference_data_loader(df_trans.to_dict(orient='records'), num_workers=0, batch_size=128)\n",
    "#X_mlm = torch.vstack(embed_inference(model, dl, )).cpu().numpy()\n",
    "X_pool = torch.vstack(pooling_inference(model, dl, )).cpu().numpy()\n",
    "#X_embeds = np.concatenate([X_mlm, X_pool], axis=1)\n",
    "X_embeds = X_pool\n",
    "\n",
    "df_embeds = pd.DataFrame(X_embeds, columns=[f\"tab_{e}\" for e in range(X_embeds.shape[1])])\n",
    "df_embeds['user_id'] = df_trans['user_id']\n",
    "df_embeds.to_csv('./data/tabformer.csv', index=False)"
   ]
  },
  {
   "cell_type": "markdown",
   "id": "b34f2f38-af86-417a-904f-4c235e6fa30b",
   "metadata": {},
   "source": [
    "## Downstream"
   ]
  },
  {
   "cell_type": "code",
   "execution_count": 14,
   "id": "249e125e-b4f2-458a-8a83-5a897b667e5f",
   "metadata": {},
   "outputs": [
    {
     "name": "stdout",
     "output_type": "stream",
     "text": [
      "CPU times: user 2min 1s, sys: 14.3 s, total: 2min 16s\n",
      "Wall time: 2min 16s\n"
     ]
    }
   ],
   "source": [
    "%%time\n",
    "\n",
    "import bisect\n",
    "import numpy as np\n",
    "\n",
    "df_embeds = pd.read_csv('./data/tabformer.csv')\n",
    "df_public = pq.read_table('data/public_train.pqt').to_pandas().sort_values(by='user_id')\n",
    "\n",
    "def age_bucket(x):\n",
    "    return bisect.bisect_left([18,25,35,45,55,65], x)\n",
    "\n",
    "y_age = df_public['age']\n",
    "y_age = np.array(list(map(age_bucket, y_age)))\n",
    "y_gender = np.array(df_public['is_male'])\n",
    "\n",
    "X = df_public\n",
    "X = X.merge(df_embeds, on=\"user_id\", how='inner')\n",
    "del X['user_id'], X['age'], X['is_male']"
   ]
  },
  {
   "cell_type": "markdown",
   "id": "e1256856-3585-4b1d-ab90-68d7f2e74847",
   "metadata": {},
   "source": [
    "## Gender"
   ]
  },
  {
   "cell_type": "code",
   "execution_count": 15,
   "id": "f91510b6-e068-4b06-a703-ece8a251280e",
   "metadata": {
    "tags": []
   },
   "outputs": [
    {
     "name": "stdout",
     "output_type": "stream",
     "text": [
      "Learning rate set to 0.122426\n",
      "0:\tlearn: 0.6751815\ttest: 0.6754598\tbest: 0.6754598 (0)\ttotal: 171ms\tremaining: 2m 51s\n",
      "100:\tlearn: 0.5203476\ttest: 0.5230942\tbest: 0.5230942 (100)\ttotal: 10.3s\tremaining: 1m 31s\n",
      "200:\tlearn: 0.4928468\ttest: 0.5000588\tbest: 0.5000588 (200)\ttotal: 20.9s\tremaining: 1m 22s\n",
      "300:\tlearn: 0.4771739\ttest: 0.4897786\tbest: 0.4897786 (300)\ttotal: 31.4s\tremaining: 1m 13s\n",
      "400:\tlearn: 0.4655176\ttest: 0.4841904\tbest: 0.4841904 (400)\ttotal: 42.2s\tremaining: 1m 3s\n",
      "500:\tlearn: 0.4553358\ttest: 0.4808018\tbest: 0.4808018 (500)\ttotal: 52.7s\tremaining: 52.5s\n",
      "600:\tlearn: 0.4463135\ttest: 0.4788439\tbest: 0.4788439 (600)\ttotal: 1m 3s\tremaining: 41.9s\n",
      "700:\tlearn: 0.4378026\ttest: 0.4769616\tbest: 0.4769616 (700)\ttotal: 1m 13s\tremaining: 31.3s\n",
      "800:\tlearn: 0.4298296\ttest: 0.4755379\tbest: 0.4755379 (800)\ttotal: 1m 23s\tremaining: 20.8s\n",
      "900:\tlearn: 0.4221736\ttest: 0.4748350\tbest: 0.4748350 (900)\ttotal: 1m 34s\tremaining: 10.3s\n",
      "999:\tlearn: 0.4147652\ttest: 0.4744257\tbest: 0.4744257 (999)\ttotal: 1m 44s\tremaining: 0us\n",
      "\n",
      "bestTest = 0.4744257413\n",
      "bestIteration = 999\n",
      "\n"
     ]
    },
    {
     "data": {
      "text/plain": [
       "<catboost.core.CatBoostClassifier at 0x7f08fb184970>"
      ]
     },
     "execution_count": 15,
     "metadata": {},
     "output_type": "execute_result"
    }
   ],
   "source": [
    "# %%time\n",
    "\n",
    "from catboost import CatBoostClassifier, metrics\n",
    "from sklearn.model_selection import train_test_split\n",
    "from sklearn.metrics import roc_auc_score\n",
    "not_na_gender = (y_gender != 'NA') & (y_gender != None)\n",
    "x_train, x_test_gender, y_train, y_test_gender = train_test_split(X[not_na_gender], y_gender[not_na_gender], test_size = 0.1, random_state = 42)\n",
    "\n",
    "clf_gender = CatBoostClassifier(\n",
    "    iterations=1000,\n",
    "    custom_metric=[metrics.AUC()],\n",
    "    use_best_model=True,\n",
    "    random_seed=42)\n",
    "clf_gender.fit(x_train, y_train, metric_period=100, eval_set=(x_test_gender, y_test_gender))"
   ]
  },
  {
   "cell_type": "code",
   "execution_count": 16,
   "id": "36e9073f-a2e5-4380-b3b6-7afbb95503e7",
   "metadata": {},
   "outputs": [
    {
     "name": "stdout",
     "output_type": "stream",
     "text": [
      "GINI по полу 0.713\n"
     ]
    }
   ],
   "source": [
    "print(f'GINI по полу {2 * roc_auc_score(y_test_gender, clf_gender.predict_proba(x_test_gender)[:,1]) - 1:2.3f}')"
   ]
  },
  {
   "cell_type": "markdown",
   "id": "b6f90007-39ca-413f-bb25-4fb6c4567417",
   "metadata": {},
   "source": [
    "# Age"
   ]
  },
  {
   "cell_type": "code",
   "execution_count": 17,
   "id": "37c4697a-1ad9-4b11-904a-5d2cae5c0945",
   "metadata": {},
   "outputs": [
    {
     "name": "stdout",
     "output_type": "stream",
     "text": [
      "Learning rate set to 0.120515\n",
      "0:\tlearn: 1.8444123\ttest: 1.8426211\tbest: 1.8426211 (0)\ttotal: 915ms\tremaining: 15m 14s\n",
      "100:\tlearn: 1.3254545\ttest: 1.3264097\tbest: 1.3264097 (100)\ttotal: 1m 12s\tremaining: 10m 43s\n",
      "200:\tlearn: 1.2875972\ttest: 1.3026698\tbest: 1.3026698 (200)\ttotal: 2m 19s\tremaining: 9m 13s\n",
      "300:\tlearn: 1.2644711\ttest: 1.2934260\tbest: 1.2934260 (300)\ttotal: 3m 25s\tremaining: 7m 57s\n",
      "400:\tlearn: 1.2451778\ttest: 1.2880599\tbest: 1.2880599 (400)\ttotal: 4m 27s\tremaining: 6m 40s\n",
      "500:\tlearn: 1.2287270\ttest: 1.2850381\tbest: 1.2850381 (500)\ttotal: 5m 32s\tremaining: 5m 30s\n",
      "600:\tlearn: 1.2131467\ttest: 1.2827807\tbest: 1.2827807 (600)\ttotal: 6m 37s\tremaining: 4m 23s\n",
      "700:\tlearn: 1.1983100\ttest: 1.2808273\tbest: 1.2808273 (700)\ttotal: 7m 42s\tremaining: 3m 17s\n",
      "800:\tlearn: 1.1845334\ttest: 1.2793951\tbest: 1.2793951 (800)\ttotal: 8m 47s\tremaining: 2m 11s\n",
      "900:\tlearn: 1.1715021\ttest: 1.2784615\tbest: 1.2784615 (900)\ttotal: 9m 52s\tremaining: 1m 5s\n",
      "999:\tlearn: 1.1586239\ttest: 1.2779272\tbest: 1.2779272 (999)\ttotal: 10m 57s\tremaining: 0us\n",
      "\n",
      "bestTest = 1.277927167\n",
      "bestIteration = 999\n",
      "\n",
      "CPU times: user 3h 55min 28s, sys: 1min, total: 3h 56min 29s\n",
      "Wall time: 11min 7s\n"
     ]
    },
    {
     "data": {
      "text/plain": [
       "<catboost.core.CatBoostClassifier at 0x7ed6e383e790>"
      ]
     },
     "execution_count": 17,
     "metadata": {},
     "output_type": "execute_result"
    }
   ],
   "source": [
    "%%time\n",
    "\n",
    "from sklearn.metrics import classification_report\n",
    "\n",
    "not_na_age = ~np.isnan(y_age)\n",
    "x_train, x_test_age, y_train, y_test_age = train_test_split(X[not_na_age], y_age[not_na_age], test_size = 0.1, random_state = 42)\n",
    "\n",
    "clf_age = CatBoostClassifier(iterations=1000,\n",
    "    custom_metric=[metrics.Accuracy()],\n",
    "    use_best_model=True,\n",
    "    random_seed=42)\n",
    "clf_age.fit(x_train, y_train, metric_period=100, eval_set=(x_test_age, y_test_age))"
   ]
  },
  {
   "cell_type": "code",
   "execution_count": 18,
   "id": "d63be1d4-15a0-4c0a-9c5a-5d836a7a24ee",
   "metadata": {},
   "outputs": [
    {
     "name": "stdout",
     "output_type": "stream",
     "text": [
      "              precision    recall  f1-score   support\n",
      "\n",
      "         <18       0.00      0.00      0.00       109\n",
      "       18-25       0.54      0.36      0.43      3238\n",
      "       25-34       0.50      0.65      0.56      8863\n",
      "       35-44       0.41      0.50      0.45      7773\n",
      "       45-54       0.37      0.23      0.29      4218\n",
      "       55-65       0.40      0.22      0.28      2254\n",
      "         65+       0.35      0.02      0.04       545\n",
      "\n",
      "    accuracy                           0.46     27000\n",
      "   macro avg       0.37      0.28      0.29     27000\n",
      "weighted avg       0.45      0.46      0.44     27000\n",
      "\n"
     ]
    }
   ],
   "source": [
    "print(classification_report(y_test_age, clf_age.predict(x_test_age), \\\n",
    "                            target_names = ['<18', '18-25','25-34', '35-44', '45-54', '55-65', '65+']))"
   ]
  },
  {
   "cell_type": "code",
   "execution_count": 21,
   "id": "83148af4-776b-4bad-8195-cbc282d2a501",
   "metadata": {},
   "outputs": [
    {
     "data": {
      "text/plain": [
       "1.593"
      ]
     },
     "execution_count": 21,
     "metadata": {},
     "output_type": "execute_result"
    }
   ],
   "source": [
    "0.713 + 2*0.44"
   ]
  },
  {
   "cell_type": "code",
   "execution_count": 20,
   "id": "3665984e-8f8a-4ae0-b857-a6afc34a7c39",
   "metadata": {},
   "outputs": [
    {
     "data": {
      "text/plain": [
       "1.7"
      ]
     },
     "execution_count": 20,
     "metadata": {},
     "output_type": "execute_result"
    }
   ],
   "source": [
    "0.760 + 2*0.47"
   ]
  },
  {
   "cell_type": "code",
   "execution_count": null,
   "id": "39ef9df4-d8ab-4899-b31c-4b165ef3e6f2",
   "metadata": {},
   "outputs": [],
   "source": []
  }
 ],
 "metadata": {
  "kernelspec": {
   "display_name": "ptls",
   "language": "python",
   "name": "ptls"
  },
  "language_info": {
   "codemirror_mode": {
    "name": "ipython",
    "version": 3
   },
   "file_extension": ".py",
   "mimetype": "text/x-python",
   "name": "python",
   "nbconvert_exporter": "python",
   "pygments_lexer": "ipython3",
   "version": "3.8.10"
  }
 },
 "nbformat": 4,
 "nbformat_minor": 5
}
