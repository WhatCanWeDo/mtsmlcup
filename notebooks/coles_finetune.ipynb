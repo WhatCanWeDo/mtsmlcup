{
 "cells": [
  {
   "cell_type": "code",
   "execution_count": 1,
   "id": "7af790b9-f4cc-40e0-a28a-7f11fc403b83",
   "metadata": {},
   "outputs": [],
   "source": [
    "import pandas as pd\n",
    "import pyarrow as pa\n",
    "import pyarrow.parquet as pq"
   ]
  },
  {
   "cell_type": "markdown",
   "id": "7f223e8d-dfde-4c4b-9c71-6cf3c744c0a9",
   "metadata": {},
   "source": [
    "## Train COLES"
   ]
  },
  {
   "cell_type": "markdown",
   "id": "82cc0f45-6d4c-4026-ab33-bb58d1c5a5c7",
   "metadata": {},
   "source": [
    "### Model definition"
   ]
  },
  {
   "cell_type": "code",
   "execution_count": null,
   "id": "a491a9e2-62f6-41f8-9010-0cec157dbded",
   "metadata": {},
   "outputs": [],
   "source": [
    "import torch\n",
    "import pytorch_lightning as pl\n",
    "from functools import partial\n",
    "from ptls.nn import TrxEncoder, RnnSeqEncoder\n",
    "from ptls.frames.coles import CoLESModule\n",
    "\n",
    "trx_encoder_params = dict(\n",
    "    embeddings_noise=0.003,\n",
    "    numeric_values={'request_cnt': 'identity'\n",
    "    },\n",
    "    embeddings={\n",
    "        #'price': {'in': 10, 'out': 2},\n",
    "        #'region_name': {'in': 81, 'out': 4},\n",
    "        #'city_name': {'in': 985, 'out': 16},\n",
    "        #'cpe_manufacturer_name': {'in': 37, 'out': 4},\n",
    "        #'cpe_model_name': {'in': 599, 'out': 16},\n",
    "        #'cpe_type_cd': {'in': 4, 'out': 2}, \n",
    "        #'cpe_model_os_type': {'in': 3, 'out': 2}, \n",
    "        'part_of_day': {'in': 4, 'out': 1},\n",
    "        'url_host': {'in': 132025, 'out': 512}\n",
    "    }\n",
    ")\n",
    "\n",
    "\n",
    "seq_encoder = RnnSeqEncoder(\n",
    "    trx_encoder=TrxEncoder(**trx_encoder_params),\n",
    "    hidden_size=256,\n",
    "    num_layers=3,\n",
    "    type='lstm',\n",
    ")\n",
    "\n",
    "model = CoLESModule(\n",
    "    seq_encoder=seq_encoder,\n",
    "    optimizer_partial=partial(torch.optim.Adam, lr=0.001),\n",
    "    lr_scheduler_partial=partial(torch.optim.lr_scheduler.StepLR, step_size=10, gamma=0.9),\n",
    ")"
   ]
  },
  {
   "cell_type": "code",
   "execution_count": null,
   "id": "45bdad93-26bf-4a89-809f-e1ef26e4012f",
   "metadata": {},
   "outputs": [],
   "source": [
    "model.load_state_dict(torch.load(\"coles-emb-lstm.pt\"))"
   ]
  },
  {
   "cell_type": "markdown",
   "id": "8f2a2c03-a0e6-4241-8d56-abb4eb5b1d97",
   "metadata": {},
   "source": [
    "# Finetune"
   ]
  },
  {
   "cell_type": "code",
   "execution_count": null,
   "id": "7f01ebcc-e64c-445c-a267-7ec430f9c73b",
   "metadata": {},
   "outputs": [],
   "source": [
    "%%time\n",
    "\n",
    "import tqdm, torch\n",
    "\n",
    "\n",
    "df_trans = pq.read_table('./data/trans_filtered.pq').to_pandas()\n",
    "\n",
    "cols = ['url_host', 'request_cnt', 'part_of_day', 'event_time']\n",
    "for col in tqdm.tqdm(cols):\n",
    "    df_trans[col] = df_trans[col].apply(torch.tensor)"
   ]
  },
  {
   "cell_type": "code",
   "execution_count": null,
   "id": "e16ab816-3775-420c-b533-cbce804d89b1",
   "metadata": {},
   "outputs": [],
   "source": [
    "SEED = 0  # todo 0, 1, 2, 3, 4 done \n",
    "torch.manual_seed(SEED)"
   ]
  },
  {
   "cell_type": "code",
   "execution_count": null,
   "id": "91016991-c757-47fc-9461-ed4983af92a7",
   "metadata": {},
   "outputs": [],
   "source": [
    "from sklearn.model_selection import train_test_split\n",
    "import numpy as np\n",
    "\n",
    "import bisect\n",
    "\n",
    "def age_bucket(x):\n",
    "    return bisect.bisect_left([18,25,35,45,55,65], x)\n",
    "\n",
    "df_public = pq.read_table('data/public_train.pqt').to_pandas().sort_values(by='user_id')\n",
    "\n",
    "# Combined target age_gender\n",
    "df_public['age'] = list(map(age_bucket, df_public['age'] ))\n",
    "df_public = df_public[(df_public['age'] != 'NA') & (df_public['is_male'] != 'NA')]\n",
    "df_public = df_public.dropna()\n",
    "df_public['target'] = df_public['age'].astype(int) + 7 * df_public['is_male'].astype(int)\n",
    "\n",
    "# Merge\n",
    "df_finetune = df_trans.merge(df_public[['user_id', 'target']], on='user_id')\n",
    "\n",
    "train_ft, valid_ft = train_test_split(df_finetune, test_size = 0.1, random_state = SEED)\n",
    "\n",
    "train_ft = train_ft.to_dict(orient='records')\n",
    "valid_ft = valid_ft.to_dict(orient='records')"
   ]
  },
  {
   "cell_type": "code",
   "execution_count": null,
   "id": "a56ded9f-d427-466c-8d33-54a9f83b1c23",
   "metadata": {},
   "outputs": [],
   "source": [
    "from ptls.data_load.datasets import MemoryMapDataset\n",
    "from ptls.frames.supervised import SeqToTargetDataset\n",
    "from ptls.frames import PtlsDataModule\n",
    "from ptls.data_load.iterable_processing import SeqLenFilter\n",
    "\n",
    "from ptls.data_load.augmentations import AllTimeShuffle, DropoutTrx\n",
    "from  ptls.data_load.datasets import AugmentationDataset\n",
    "\n",
    "def get_dataset(data, aug=False):\n",
    "    ds = MemoryMapDataset(data=data, i_filters=[SeqLenFilter(max_seq_len=1000),])\n",
    "    if aug:\n",
    "        ds = AugmentationDataset(ds, f_augmentations = [AllTimeShuffle(), DropoutTrx(trx_dropout=0.01)])\n",
    "    return SeqToTargetDataset(ds, target_col_name='target',)\n",
    "\n",
    "finetune_dm = PtlsDataModule(\n",
    "    train_data=get_dataset(train_ft, aug=True),\n",
    "    valid_data=get_dataset(valid_ft),\n",
    "    train_num_workers=4,\n",
    "    train_batch_size=128,)"
   ]
  },
  {
   "cell_type": "code",
   "execution_count": null,
   "id": "df848227-4a6e-4096-9125-986b603693f5",
   "metadata": {},
   "outputs": [],
   "source": [
    "from functools import partial\n",
    "import torch\n",
    "import torchmetrics\n",
    "from ptls.frames.supervised import SequenceToTarget\n",
    "from ptls.nn import Head\n",
    "\n",
    "model_finetuned = SequenceToTarget(\n",
    "    seq_encoder=model.seq_encoder,\n",
    "    head=Head(\n",
    "        input_size=model.seq_encoder.embedding_size,\n",
    "        use_batch_norm=True,\n",
    "        objective='classification',\n",
    "        num_classes=14,\n",
    "    ),\n",
    "    loss=torch.nn.NLLLoss(),\n",
    "    metric_list=torchmetrics.Accuracy(compute_on_step=False),\n",
    "    pretrained_lr=0.0001,\n",
    "    optimizer_partial=partial(torch.optim.Adam, lr=0.01, weight_decay=1e-5),\n",
    "    lr_scheduler_partial=partial(torch.optim.lr_scheduler.StepLR, step_size=10, gamma=0.9),\n",
    ")"
   ]
  },
  {
   "cell_type": "code",
   "execution_count": null,
   "id": "9d0448fa-1405-4418-8fb9-e4ff0e53e97e",
   "metadata": {},
   "outputs": [],
   "source": [
    "from pytorch_lightning.callbacks import EarlyStopping\n",
    "\n",
    "early_stopping = EarlyStopping(\n",
    "    monitor=\"val_Accuracy\",\n",
    "    min_delta=0.001,\n",
    "    patience=5,\n",
    "    mode='max'\n",
    ")\n",
    "\n",
    "trainer_ft = pl.Trainer(\n",
    "    max_epochs=50,\n",
    "    callbacks=[early_stopping],\n",
    "    gpus=[0],\n",
    "    enable_progress_bar=False,\n",
    ")"
   ]
  },
  {
   "cell_type": "code",
   "execution_count": null,
   "id": "6af5db53-47b3-49ff-bf8a-49a3abc958ac",
   "metadata": {},
   "outputs": [],
   "source": [
    "print(f'logger.version = {trainer_ft.logger.version}')\n",
    "trainer_ft.fit(model_finetuned, finetune_dm)\n",
    "print(trainer_ft.logged_metrics)"
   ]
  },
  {
   "cell_type": "markdown",
   "id": "3ba14724-6df5-4b97-b7d7-aae8c7c50c11",
   "metadata": {},
   "source": [
    "# Infernece"
   ]
  },
  {
   "cell_type": "code",
   "execution_count": null,
   "id": "2df76e38-ec88-461c-aa41-572f134eb531",
   "metadata": {},
   "outputs": [],
   "source": [
    "%%time\n",
    "import tqdm\n",
    "\n",
    "from ptls.data_load.datasets import inference_data_loader\n",
    "\n",
    "def pooling_inference(model, dl, device='cuda:0'):\n",
    "    \n",
    "    model.to(device)\n",
    "    X = []\n",
    "    for batch in tqdm.tqdm(dl):\n",
    "        with torch.no_grad():\n",
    "            x = model.seq_encoder.trx_encoder(batch.to(device)).payload\n",
    "            out_max = torch.max(x, dim=1)[0]\n",
    "            out_min = torch.min(x, dim=1)[0]\n",
    "            out_mean = torch.mean(x, dim=1)\n",
    "            out_std = torch.std(x, dim=1)\n",
    "            features = torch.cat([out_max, out_min, out_mean, out_std], dim=1)      \n",
    "            features = out_max     \n",
    "            X += [features]\n",
    "    return X\n",
    "\n",
    "def embed_inference(model, dl, device='cuda:0'):\n",
    "    \n",
    "    model.to(device)\n",
    "    X = []\n",
    "    for batch in tqdm.tqdm(dl):\n",
    "        with torch.no_grad():\n",
    "            features = model.seq_encoder(batch.to(device))\n",
    "            X += [features]\n",
    "    return X\n",
    "\n",
    "dl = inference_data_loader(df_trans.to_dict(orient='records'), num_workers=0, batch_size=64)\n",
    "X_coles = torch.vstack(embed_inference(model_finetuned, dl, )).cpu().numpy()\n",
    "X_pool = torch.vstack(pooling_inference(model_finetuned, dl, )).cpu().numpy()"
   ]
  },
  {
   "cell_type": "code",
   "execution_count": null,
   "id": "6db0f6de-3ecd-4853-8993-223afee0af4c",
   "metadata": {},
   "outputs": [],
   "source": [
    "import numpy as np\n",
    "\n",
    "X_embeds = np.concatenate([X_coles, X_pool], axis=1)\n",
    "\n",
    "\n",
    "df_embeds = pd.DataFrame(X_embeds, columns=[f\"embed_{e}\" for e in range(X_embeds.shape[1])])\n",
    "df_embeds['user_id'] = df_trans['user_id']\n",
    "df_embeds.to_csv(f'./data/coles_finetuned_{SEED}.csv', index=False)"
   ]
  },
  {
   "cell_type": "code",
   "execution_count": null,
   "id": "a7aaa949-579d-4214-bc41-18c3f89d0c29",
   "metadata": {},
   "outputs": [],
   "source": []
  },
  {
   "cell_type": "markdown",
   "id": "b34f2f38-af86-417a-904f-4c235e6fa30b",
   "metadata": {},
   "source": [
    "## Downstream"
   ]
  },
  {
   "cell_type": "markdown",
   "id": "0a6f49c2-c642-4cdc-9697-79ac1d0411ca",
   "metadata": {},
   "source": [
    "## Targets"
   ]
  },
  {
   "cell_type": "code",
   "execution_count": null,
   "id": "249e125e-b4f2-458a-8a83-5a897b667e5f",
   "metadata": {},
   "outputs": [],
   "source": [
    "%%time\n",
    "\n",
    "from ptls.data_load.datasets import inference_data_loader\n",
    "import bisect\n",
    "import numpy as np\n",
    "\n",
    "df_public = pq.read_table('data/public_train.pqt').to_pandas().sort_values(by='user_id')\n",
    "\n",
    "def age_bucket(x):\n",
    "    return bisect.bisect_left([18,25,35,45,55,65], x)\n",
    "\n",
    "y_age = df_public['age']\n",
    "y_age = np.array(list(map(age_bucket, y_age)))\n",
    "y_gender = np.array(df_public['is_male'])\n",
    "\n",
    "X = df_public.merge(df_embeds, on=\"user_id\", how='inner')\n",
    "\n",
    "del X['user_id'], X['age'], X['is_male']"
   ]
  },
  {
   "cell_type": "code",
   "execution_count": null,
   "id": "3fb8b4f1-d1d6-4a93-8660-a1266cd8f307",
   "metadata": {},
   "outputs": [],
   "source": [
    "X.head()"
   ]
  },
  {
   "cell_type": "markdown",
   "id": "e1256856-3585-4b1d-ab90-68d7f2e74847",
   "metadata": {},
   "source": [
    "## Gender"
   ]
  },
  {
   "cell_type": "code",
   "execution_count": null,
   "id": "f91510b6-e068-4b06-a703-ece8a251280e",
   "metadata": {
    "tags": []
   },
   "outputs": [],
   "source": [
    "%%time\n",
    "from catboost import CatBoostClassifier, metrics\n",
    "from sklearn.metrics import roc_auc_score\n",
    "from sklearn.model_selection import train_test_split\n",
    "\n",
    "not_na_gender = (y_gender != 'NA') & (y_gender != None)\n",
    "\n",
    "x_train, x_test_gender, y_train, y_test_gender = train_test_split(X[not_na_gender], y_gender[not_na_gender], test_size = 0.1, random_state = 42)\n",
    "\n",
    "clf_gender = CatBoostClassifier(\n",
    "    iterations=1000,\n",
    "    custom_metric=[metrics.Accuracy()],\n",
    "    use_best_model=True,\n",
    "    random_seed=42)\n",
    "clf_gender.fit(x_train, y_train, metric_period=100, eval_set=(x_test_gender, y_test_gender))"
   ]
  },
  {
   "cell_type": "code",
   "execution_count": 19,
   "id": "c79f183d-f27b-4820-b15c-03b29be96436",
   "metadata": {},
   "outputs": [
    {
     "name": "stdout",
     "output_type": "stream",
     "text": [
      "GINI по полу 0.794\n"
     ]
    }
   ],
   "source": [
    "print(f'GINI по полу {2 * roc_auc_score(y_test_gender, clf_gender.predict_proba(x_test_gender)[:,1]) - 1:2.3f}')"
   ]
  },
  {
   "cell_type": "markdown",
   "id": "b6f90007-39ca-413f-bb25-4fb6c4567417",
   "metadata": {},
   "source": [
    "# Age"
   ]
  },
  {
   "cell_type": "code",
   "execution_count": 20,
   "id": "37c4697a-1ad9-4b11-904a-5d2cae5c0945",
   "metadata": {},
   "outputs": [
    {
     "name": "stdout",
     "output_type": "stream",
     "text": [
      "Learning rate set to 0.120515\n",
      "0:\tlearn: 1.7976433\ttest: 1.7967610\tbest: 1.7967610 (0)\ttotal: 351ms\tremaining: 5m 50s\n",
      "100:\tlearn: 1.1848231\ttest: 1.1844693\tbest: 1.1844693 (100)\ttotal: 25.8s\tremaining: 3m 49s\n",
      "200:\tlearn: 1.1661629\ttest: 1.1773333\tbest: 1.1773333 (200)\ttotal: 50.5s\tremaining: 3m 20s\n",
      "300:\tlearn: 1.1518798\ttest: 1.1748456\tbest: 1.1748456 (300)\ttotal: 1m 16s\tremaining: 2m 57s\n",
      "400:\tlearn: 1.1386098\ttest: 1.1734652\tbest: 1.1734652 (400)\ttotal: 1m 41s\tremaining: 2m 31s\n",
      "500:\tlearn: 1.1263486\ttest: 1.1728772\tbest: 1.1728772 (500)\ttotal: 2m 5s\tremaining: 2m 5s\n",
      "600:\tlearn: 1.1144286\ttest: 1.1729456\tbest: 1.1728772 (500)\ttotal: 2m 29s\tremaining: 1m 39s\n",
      "700:\tlearn: 1.1030784\ttest: 1.1727424\tbest: 1.1727424 (700)\ttotal: 2m 53s\tremaining: 1m 14s\n",
      "800:\tlearn: 1.0917255\ttest: 1.1728851\tbest: 1.1727424 (700)\ttotal: 3m 17s\tremaining: 49s\n",
      "900:\tlearn: 1.0806047\ttest: 1.1731725\tbest: 1.1727424 (700)\ttotal: 3m 41s\tremaining: 24.3s\n",
      "999:\tlearn: 1.0697039\ttest: 1.1735223\tbest: 1.1727424 (700)\ttotal: 4m 5s\tremaining: 0us\n",
      "\n",
      "bestTest = 1.172742361\n",
      "bestIteration = 700\n",
      "\n",
      "Shrink model to first 701 iterations.\n",
      "CPU times: user 1h 26min 51s, sys: 42.7 s, total: 1h 27min 34s\n",
      "Wall time: 4min 7s\n"
     ]
    },
    {
     "data": {
      "text/plain": [
       "<catboost.core.CatBoostClassifier at 0x7face4515fd0>"
      ]
     },
     "execution_count": 20,
     "metadata": {},
     "output_type": "execute_result"
    }
   ],
   "source": [
    "%%time\n",
    "\n",
    "from sklearn.metrics import classification_report\n",
    "\n",
    "not_na_age = ~np.isnan(y_age)\n",
    "x_train, x_test_age, y_train, y_test_age = train_test_split(X[not_na_age], y_age[not_na_age], test_size = 0.1, random_state = 42)\n",
    "\n",
    "clf_age = CatBoostClassifier(iterations=1000,\n",
    "    custom_metric=[metrics.Accuracy()],\n",
    "    use_best_model=True,\n",
    "    random_seed=42)\n",
    "clf_age.fit(x_train, y_train, metric_period=100, eval_set=(x_test_age, y_test_age))"
   ]
  },
  {
   "cell_type": "code",
   "execution_count": 21,
   "id": "683c058e-8881-48a3-8f5a-ae1851ed3f8c",
   "metadata": {},
   "outputs": [
    {
     "name": "stdout",
     "output_type": "stream",
     "text": [
      "              precision    recall  f1-score   support\n",
      "\n",
      "         <18       0.00      0.00      0.00       109\n",
      "       18-25       0.56      0.48      0.51      3238\n",
      "       25-34       0.56      0.63      0.59      8863\n",
      "       35-44       0.46      0.54      0.50      7773\n",
      "       45-54       0.43      0.34      0.38      4218\n",
      "       55-65       0.43      0.35      0.39      2254\n",
      "         65+       0.35      0.04      0.07       545\n",
      "\n",
      "    accuracy                           0.50     27000\n",
      "   macro avg       0.40      0.34      0.35     27000\n",
      "weighted avg       0.50      0.50      0.49     27000\n",
      "\n"
     ]
    },
    {
     "name": "stderr",
     "output_type": "stream",
     "text": [
      "/home/morlov/.local/share/virtualenvs/pytorch-lifestream-1iBTwtzi/lib/python3.8/site-packages/sklearn/metrics/_classification.py:1334: UndefinedMetricWarning: Precision and F-score are ill-defined and being set to 0.0 in labels with no predicted samples. Use `zero_division` parameter to control this behavior.\n",
      "  _warn_prf(average, modifier, msg_start, len(result))\n",
      "/home/morlov/.local/share/virtualenvs/pytorch-lifestream-1iBTwtzi/lib/python3.8/site-packages/sklearn/metrics/_classification.py:1334: UndefinedMetricWarning: Precision and F-score are ill-defined and being set to 0.0 in labels with no predicted samples. Use `zero_division` parameter to control this behavior.\n",
      "  _warn_prf(average, modifier, msg_start, len(result))\n",
      "/home/morlov/.local/share/virtualenvs/pytorch-lifestream-1iBTwtzi/lib/python3.8/site-packages/sklearn/metrics/_classification.py:1334: UndefinedMetricWarning: Precision and F-score are ill-defined and being set to 0.0 in labels with no predicted samples. Use `zero_division` parameter to control this behavior.\n",
      "  _warn_prf(average, modifier, msg_start, len(result))\n"
     ]
    }
   ],
   "source": [
    "print(classification_report(y_test_age, clf_age.predict(x_test_age), \\\n",
    "                            target_names = ['<18', '18-25','25-34', '35-44', '45-54', '55-65', '65+']))"
   ]
  },
  {
   "cell_type": "code",
   "execution_count": 22,
   "id": "49f4076d-4cfa-4a80-86c4-a6eae875c3db",
   "metadata": {},
   "outputs": [
    {
     "data": {
      "text/plain": [
       "1.741"
      ]
     },
     "execution_count": 22,
     "metadata": {},
     "output_type": "execute_result"
    }
   ],
   "source": [
    "0.781 + 2*0.48"
   ]
  },
  {
   "cell_type": "code",
   "execution_count": null,
   "id": "13705407-2835-4678-a91f-98de0973b9c8",
   "metadata": {},
   "outputs": [],
   "source": []
  }
 ],
 "metadata": {
  "kernelspec": {
   "display_name": "ptls",
   "language": "python",
   "name": "ptls"
  },
  "language_info": {
   "codemirror_mode": {
    "name": "ipython",
    "version": 3
   },
   "file_extension": ".py",
   "mimetype": "text/x-python",
   "name": "python",
   "nbconvert_exporter": "python",
   "pygments_lexer": "ipython3",
   "version": "3.8.10"
  }
 },
 "nbformat": 4,
 "nbformat_minor": 5
}
