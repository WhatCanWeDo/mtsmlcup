{
 "cells": [
  {
   "cell_type": "code",
   "execution_count": 1,
   "id": "7af790b9-f4cc-40e0-a28a-7f11fc403b83",
   "metadata": {},
   "outputs": [],
   "source": [
    "import pandas as pd\n",
    "import pyarrow as pa\n",
    "import pyarrow.parquet as pq"
   ]
  },
  {
   "cell_type": "markdown",
   "id": "761dcb24-aacd-44ce-9f4c-7f5b9f4dee6c",
   "metadata": {},
   "source": [
    "# Prepare data"
   ]
  },
  {
   "cell_type": "code",
   "execution_count": 2,
   "id": "3c3f885e-c636-4b72-bcb8-26004390cf0d",
   "metadata": {},
   "outputs": [
    {
     "name": "stdout",
     "output_type": "stream",
     "text": [
      "CPU times: user 1min 20s, sys: 1min 28s, total: 2min 49s\n",
      "Wall time: 28.6 s\n"
     ]
    }
   ],
   "source": [
    "%%time\n",
    "df = pq.read_table('data/competition_data_final_pqt').select(['user_id', 'url_host', 'request_cnt', 'part_of_day', 'date']).to_pandas()"
   ]
  },
  {
   "cell_type": "code",
   "execution_count": 3,
   "id": "958bc4c2-4c22-4d78-8ec2-5c9c6ed26c48",
   "metadata": {},
   "outputs": [
    {
     "data": {
      "text/plain": [
       "(322899435, 5)"
      ]
     },
     "execution_count": 3,
     "metadata": {},
     "output_type": "execute_result"
    }
   ],
   "source": [
    "df.shape"
   ]
  },
  {
   "cell_type": "code",
   "execution_count": 4,
   "id": "87f714f5-37a9-4d8a-8ad3-ddb49acc49d5",
   "metadata": {},
   "outputs": [
    {
     "data": {
      "text/plain": [
       "['user_id', 'url_host', 'request_cnt', 'part_of_day', 'date']"
      ]
     },
     "execution_count": 4,
     "metadata": {},
     "output_type": "execute_result"
    }
   ],
   "source": [
    "list(df.columns)"
   ]
  },
  {
   "cell_type": "code",
   "execution_count": 5,
   "id": "f4d854af-278f-4f52-8b51-304045c986a8",
   "metadata": {},
   "outputs": [
    {
     "name": "stdout",
     "output_type": "stream",
     "text": [
      "Unique values in column.\n",
      "url_host : 199683\n",
      "request_cnt : 15\n",
      "part_of_day : 4\n",
      "date : 396\n"
     ]
    }
   ],
   "source": [
    "import tqdm\n",
    "\n",
    "print(\"Unique values in column.\")\n",
    "for c in df.columns:\n",
    "    if c != 'user_id':\n",
    "        print(c, \":\", len(df[c].unique()))"
   ]
  },
  {
   "cell_type": "code",
   "execution_count": 6,
   "id": "aa818d1a-6670-4004-a227-cac8084d2b5d",
   "metadata": {},
   "outputs": [
    {
     "data": {
      "text/plain": [
       "day        107328399\n",
       "evening     96239286\n",
       "morning     85236015\n",
       "night       34095735\n",
       "Name: part_of_day, dtype: int64"
      ]
     },
     "execution_count": 6,
     "metadata": {},
     "output_type": "execute_result"
    }
   ],
   "source": [
    "df.part_of_day.value_counts()"
   ]
  },
  {
   "cell_type": "markdown",
   "id": "2bfb475e-bbc3-4c2a-956c-9f0a975aa803",
   "metadata": {},
   "source": [
    "### Impute price, create date+day_part event_time"
   ]
  },
  {
   "cell_type": "code",
   "execution_count": 7,
   "id": "ab0b01bc-5eaf-4089-9c60-b1012d892ab1",
   "metadata": {},
   "outputs": [],
   "source": [
    "df['event_time'] = pd.to_datetime(df[\"date\"]).values.astype('datetime64[h]').view('int64')"
   ]
  },
  {
   "cell_type": "code",
   "execution_count": 8,
   "id": "5a79b418-162d-4c76-83a7-e143eba52e46",
   "metadata": {},
   "outputs": [],
   "source": [
    "df['event_time'] += df['part_of_day'].map({'morning': 0, 'day': 6, 'evening': 12, 'night': 18})"
   ]
  },
  {
   "cell_type": "code",
   "execution_count": 9,
   "id": "c873bfd1-9a87-497f-beb7-c811a3e053d7",
   "metadata": {},
   "outputs": [
    {
     "data": {
      "text/html": [
       "<div>\n",
       "<style scoped>\n",
       "    .dataframe tbody tr th:only-of-type {\n",
       "        vertical-align: middle;\n",
       "    }\n",
       "\n",
       "    .dataframe tbody tr th {\n",
       "        vertical-align: top;\n",
       "    }\n",
       "\n",
       "    .dataframe thead th {\n",
       "        text-align: right;\n",
       "    }\n",
       "</style>\n",
       "<table border=\"1\" class=\"dataframe\">\n",
       "  <thead>\n",
       "    <tr style=\"text-align: right;\">\n",
       "      <th></th>\n",
       "      <th>user_id</th>\n",
       "      <th>url_host</th>\n",
       "      <th>request_cnt</th>\n",
       "      <th>part_of_day</th>\n",
       "      <th>date</th>\n",
       "      <th>event_time</th>\n",
       "    </tr>\n",
       "  </thead>\n",
       "  <tbody>\n",
       "    <tr>\n",
       "      <th>0</th>\n",
       "      <td>45098</td>\n",
       "      <td>ad.adriver.ru</td>\n",
       "      <td>1</td>\n",
       "      <td>morning</td>\n",
       "      <td>2022-06-15</td>\n",
       "      <td>459792</td>\n",
       "    </tr>\n",
       "    <tr>\n",
       "      <th>1</th>\n",
       "      <td>45098</td>\n",
       "      <td>apple.com</td>\n",
       "      <td>1</td>\n",
       "      <td>morning</td>\n",
       "      <td>2022-06-19</td>\n",
       "      <td>459888</td>\n",
       "    </tr>\n",
       "    <tr>\n",
       "      <th>2</th>\n",
       "      <td>45098</td>\n",
       "      <td>avatars.mds.yandex.net</td>\n",
       "      <td>1</td>\n",
       "      <td>day</td>\n",
       "      <td>2022-06-12</td>\n",
       "      <td>459726</td>\n",
       "    </tr>\n",
       "    <tr>\n",
       "      <th>3</th>\n",
       "      <td>45098</td>\n",
       "      <td>googleads.g.doubleclick.net</td>\n",
       "      <td>1</td>\n",
       "      <td>day</td>\n",
       "      <td>2022-05-16</td>\n",
       "      <td>459078</td>\n",
       "    </tr>\n",
       "    <tr>\n",
       "      <th>4</th>\n",
       "      <td>45098</td>\n",
       "      <td>googleads.g.doubleclick.net</td>\n",
       "      <td>1</td>\n",
       "      <td>day</td>\n",
       "      <td>2022-05-30</td>\n",
       "      <td>459414</td>\n",
       "    </tr>\n",
       "  </tbody>\n",
       "</table>\n",
       "</div>"
      ],
      "text/plain": [
       "   user_id                     url_host  request_cnt part_of_day        date  \\\n",
       "0    45098                ad.adriver.ru            1     morning  2022-06-15   \n",
       "1    45098                    apple.com            1     morning  2022-06-19   \n",
       "2    45098       avatars.mds.yandex.net            1         day  2022-06-12   \n",
       "3    45098  googleads.g.doubleclick.net            1         day  2022-05-16   \n",
       "4    45098  googleads.g.doubleclick.net            1         day  2022-05-30   \n",
       "\n",
       "   event_time  \n",
       "0      459792  \n",
       "1      459888  \n",
       "2      459726  \n",
       "3      459078  \n",
       "4      459414  "
      ]
     },
     "execution_count": 9,
     "metadata": {},
     "output_type": "execute_result"
    }
   ],
   "source": [
    "df.head()"
   ]
  },
  {
   "cell_type": "markdown",
   "id": "c2e0174d-14ea-4937-93f8-997de76dbf4f",
   "metadata": {},
   "source": [
    "# Split url_host by level"
   ]
  },
  {
   "cell_type": "code",
   "execution_count": 10,
   "id": "700f6a17-cc41-4c19-b8b5-50441da9dc7f",
   "metadata": {},
   "outputs": [],
   "source": [
    "df['url_host_1'] = df['url_host'].apply(lambda x: x.split(\".\")[-1])\n",
    "df['url_host_2'] = df['url_host'].apply(lambda x: x.split(\".\")[-2] if len(x.split(\".\"))>1 else '_' )\n",
    "df['url_host_3'] = df['url_host'].apply(lambda x: \".\".join(x.split(\".\")[:-2]) if len(x.split(\".\"))>2 else '_' )\n",
    "del df['url_host']"
   ]
  },
  {
   "cell_type": "markdown",
   "id": "f8e4b371-15ee-4a28-bc5c-f86a0d8cf9da",
   "metadata": {},
   "source": [
    "# Create transactional data"
   ]
  },
  {
   "cell_type": "code",
   "execution_count": 11,
   "id": "a7c112a1-95cc-49a9-8e4f-fa283be6cfef",
   "metadata": {},
   "outputs": [
    {
     "name": "stdout",
     "output_type": "stream",
     "text": [
      "Unique values in column.\n",
      "request_cnt : 15\n",
      "part_of_day : 4\n",
      "date : 396\n",
      "event_time : 1584\n",
      "url_host_1 : 869\n",
      "url_host_2 : 125474\n",
      "url_host_3 : 48933\n"
     ]
    }
   ],
   "source": [
    "import tqdm\n",
    "\n",
    "print(\"Unique values in column.\")\n",
    "for c in df.columns:\n",
    "    if c != 'user_id':\n",
    "        print(c, \":\", len(df[c].unique()))"
   ]
  },
  {
   "cell_type": "code",
   "execution_count": 31,
   "id": "ae018ec5-5da0-4d7b-a6a6-92475c944480",
   "metadata": {},
   "outputs": [
    {
     "data": {
      "text/plain": [
       "Index(['user_id', 'request_cnt', 'part_of_day', 'event_time', 'url_host_1',\n",
       "       'url_host_2', 'url_host_3'],\n",
       "      dtype='object')"
      ]
     },
     "execution_count": 31,
     "metadata": {},
     "output_type": "execute_result"
    }
   ],
   "source": [
    "df.columns"
   ]
  },
  {
   "cell_type": "code",
   "execution_count": 30,
   "id": "8a7a0538-97c1-4d87-a1c1-3cf02f4c4db8",
   "metadata": {},
   "outputs": [],
   "source": [
    "del df['date']"
   ]
  },
  {
   "cell_type": "code",
   "execution_count": 32,
   "id": "2c390b2d-ec9d-45e1-9e1c-96e0ddbb84c0",
   "metadata": {},
   "outputs": [],
   "source": [
    "from ptls.preprocessing import PandasDataPreprocessor\n",
    "\n",
    "preprocessor = PandasDataPreprocessor(\n",
    "    col_id='user_id',\n",
    "    col_event_time='event_time',\n",
    "    event_time_transformation='none',\n",
    "    cols_category=['url_host_1', 'url_host_2', 'url_host_3', 'part_of_day'],\n",
    "    cols_numerical=['request_cnt'],\n",
    "    return_records=False,\n",
    ")"
   ]
  },
  {
   "cell_type": "code",
   "execution_count": 33,
   "id": "8abf9b6a-cf57-4a68-b57c-9fb47bdbf543",
   "metadata": {},
   "outputs": [
    {
     "name": "stdout",
     "output_type": "stream",
     "text": [
      "CPU times: user 10min 23s, sys: 5min, total: 15min 23s\n",
      "Wall time: 15min 23s\n"
     ]
    }
   ],
   "source": [
    "%%time\n",
    "import pickle\n",
    "\n",
    "trans = preprocessor.fit_transform(df)\n",
    "\n",
    "with open('preprocessor_split.p', 'wb') as f:\n",
    "    pickle.dump(preprocessor, f)"
   ]
  },
  {
   "cell_type": "code",
   "execution_count": 34,
   "id": "98ee2e04-d5a0-40b0-ac05-f59b001298e7",
   "metadata": {},
   "outputs": [
    {
     "name": "stderr",
     "output_type": "stream",
     "text": [
      "100%|█████████████████████████████████████████████████████████████████████████████████| 6/6 [00:17<00:00,  2.83s/it]\n"
     ]
    },
    {
     "name": "stdout",
     "output_type": "stream",
     "text": [
      "CPU times: user 57.4 s, sys: 21.1 s, total: 1min 18s\n",
      "Wall time: 1min 17s\n"
     ]
    }
   ],
   "source": [
    "%%time\n",
    "\n",
    "import pickle\n",
    "import numpy as np\n",
    "\n",
    "\n",
    "cols = ['url_host_1', 'url_host_2', 'url_host_3', 'request_cnt', 'part_of_day', 'event_time']\n",
    "\n",
    "trans_save = trans\n",
    "for col in tqdm.tqdm(cols):\n",
    "    trans_save[col] = trans_save[col].apply(np.array)\n",
    "\n",
    "trans_save.to_parquet('./data/trans_split.pq', engine='pyarrow')"
   ]
  },
  {
   "cell_type": "code",
   "execution_count": null,
   "id": "b97bd676-078c-4455-83a2-08d6e1fa5499",
   "metadata": {},
   "outputs": [],
   "source": []
  }
 ],
 "metadata": {
  "kernelspec": {
   "display_name": "ptls",
   "language": "python",
   "name": "ptls"
  },
  "language_info": {
   "codemirror_mode": {
    "name": "ipython",
    "version": 3
   },
   "file_extension": ".py",
   "mimetype": "text/x-python",
   "name": "python",
   "nbconvert_exporter": "python",
   "pygments_lexer": "ipython3",
   "version": "3.8.10"
  }
 },
 "nbformat": 4,
 "nbformat_minor": 5
}
