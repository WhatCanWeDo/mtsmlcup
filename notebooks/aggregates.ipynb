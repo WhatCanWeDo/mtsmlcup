{
 "cells": [
  {
   "cell_type": "code",
   "execution_count": 1,
   "id": "7af790b9-f4cc-40e0-a28a-7f11fc403b83",
   "metadata": {},
   "outputs": [],
   "source": [
    "import pandas as pd\n",
    "import pyarrow as pa\n",
    "import pyarrow.parquet as pq"
   ]
  },
  {
   "cell_type": "markdown",
   "id": "ad1578c9-a524-4c22-ad51-ae48fd28a182",
   "metadata": {},
   "source": [
    "## Handcrafted aggreagates"
   ]
  },
  {
   "cell_type": "code",
   "execution_count": 2,
   "id": "335f2c74-ee41-4a52-82ad-6bcebc42d01c",
   "metadata": {},
   "outputs": [
    {
     "name": "stdout",
     "output_type": "stream",
     "text": [
      "CPU times: user 1min 48s, sys: 1min 53s, total: 3min 42s\n",
      "Wall time: 1min 12s\n"
     ]
    }
   ],
   "source": [
    "%%time\n",
    "df = pq.read_table('data/competition_data_final_pqt').to_pandas()"
   ]
  },
  {
   "cell_type": "code",
   "execution_count": 3,
   "id": "2469f4a7-c7ce-4a81-8161-ab712e3bf945",
   "metadata": {},
   "outputs": [
    {
     "data": {
      "text/html": [
       "<div>\n",
       "<style scoped>\n",
       "    .dataframe tbody tr th:only-of-type {\n",
       "        vertical-align: middle;\n",
       "    }\n",
       "\n",
       "    .dataframe tbody tr th {\n",
       "        vertical-align: top;\n",
       "    }\n",
       "\n",
       "    .dataframe thead th {\n",
       "        text-align: right;\n",
       "    }\n",
       "</style>\n",
       "<table border=\"1\" class=\"dataframe\">\n",
       "  <thead>\n",
       "    <tr style=\"text-align: right;\">\n",
       "      <th></th>\n",
       "      <th>region_name</th>\n",
       "      <th>city_name</th>\n",
       "      <th>cpe_manufacturer_name</th>\n",
       "      <th>cpe_model_name</th>\n",
       "      <th>url_host</th>\n",
       "      <th>cpe_type_cd</th>\n",
       "      <th>cpe_model_os_type</th>\n",
       "      <th>price</th>\n",
       "      <th>date</th>\n",
       "      <th>part_of_day</th>\n",
       "      <th>request_cnt</th>\n",
       "      <th>user_id</th>\n",
       "    </tr>\n",
       "  </thead>\n",
       "  <tbody>\n",
       "    <tr>\n",
       "      <th>0</th>\n",
       "      <td>Краснодарский край</td>\n",
       "      <td>Краснодар</td>\n",
       "      <td>Apple</td>\n",
       "      <td>iPhone 7</td>\n",
       "      <td>ad.adriver.ru</td>\n",
       "      <td>smartphone</td>\n",
       "      <td>iOS</td>\n",
       "      <td>20368.0</td>\n",
       "      <td>2022-06-15</td>\n",
       "      <td>morning</td>\n",
       "      <td>1</td>\n",
       "      <td>45098</td>\n",
       "    </tr>\n",
       "    <tr>\n",
       "      <th>1</th>\n",
       "      <td>Краснодарский край</td>\n",
       "      <td>Краснодар</td>\n",
       "      <td>Apple</td>\n",
       "      <td>iPhone 7</td>\n",
       "      <td>apple.com</td>\n",
       "      <td>smartphone</td>\n",
       "      <td>iOS</td>\n",
       "      <td>20368.0</td>\n",
       "      <td>2022-06-19</td>\n",
       "      <td>morning</td>\n",
       "      <td>1</td>\n",
       "      <td>45098</td>\n",
       "    </tr>\n",
       "    <tr>\n",
       "      <th>2</th>\n",
       "      <td>Краснодарский край</td>\n",
       "      <td>Краснодар</td>\n",
       "      <td>Apple</td>\n",
       "      <td>iPhone 7</td>\n",
       "      <td>avatars.mds.yandex.net</td>\n",
       "      <td>smartphone</td>\n",
       "      <td>iOS</td>\n",
       "      <td>20368.0</td>\n",
       "      <td>2022-06-12</td>\n",
       "      <td>day</td>\n",
       "      <td>1</td>\n",
       "      <td>45098</td>\n",
       "    </tr>\n",
       "    <tr>\n",
       "      <th>3</th>\n",
       "      <td>Краснодарский край</td>\n",
       "      <td>Краснодар</td>\n",
       "      <td>Apple</td>\n",
       "      <td>iPhone 7</td>\n",
       "      <td>googleads.g.doubleclick.net</td>\n",
       "      <td>smartphone</td>\n",
       "      <td>iOS</td>\n",
       "      <td>20368.0</td>\n",
       "      <td>2022-05-16</td>\n",
       "      <td>day</td>\n",
       "      <td>1</td>\n",
       "      <td>45098</td>\n",
       "    </tr>\n",
       "    <tr>\n",
       "      <th>4</th>\n",
       "      <td>Краснодарский край</td>\n",
       "      <td>Краснодар</td>\n",
       "      <td>Apple</td>\n",
       "      <td>iPhone 7</td>\n",
       "      <td>googleads.g.doubleclick.net</td>\n",
       "      <td>smartphone</td>\n",
       "      <td>iOS</td>\n",
       "      <td>20368.0</td>\n",
       "      <td>2022-05-30</td>\n",
       "      <td>day</td>\n",
       "      <td>1</td>\n",
       "      <td>45098</td>\n",
       "    </tr>\n",
       "  </tbody>\n",
       "</table>\n",
       "</div>"
      ],
      "text/plain": [
       "          region_name  city_name cpe_manufacturer_name cpe_model_name  \\\n",
       "0  Краснодарский край  Краснодар                 Apple       iPhone 7   \n",
       "1  Краснодарский край  Краснодар                 Apple       iPhone 7   \n",
       "2  Краснодарский край  Краснодар                 Apple       iPhone 7   \n",
       "3  Краснодарский край  Краснодар                 Apple       iPhone 7   \n",
       "4  Краснодарский край  Краснодар                 Apple       iPhone 7   \n",
       "\n",
       "                      url_host cpe_type_cd cpe_model_os_type    price  \\\n",
       "0                ad.adriver.ru  smartphone               iOS  20368.0   \n",
       "1                    apple.com  smartphone               iOS  20368.0   \n",
       "2       avatars.mds.yandex.net  smartphone               iOS  20368.0   \n",
       "3  googleads.g.doubleclick.net  smartphone               iOS  20368.0   \n",
       "4  googleads.g.doubleclick.net  smartphone               iOS  20368.0   \n",
       "\n",
       "         date part_of_day  request_cnt  user_id  \n",
       "0  2022-06-15     morning            1    45098  \n",
       "1  2022-06-19     morning            1    45098  \n",
       "2  2022-06-12         day            1    45098  \n",
       "3  2022-05-16         day            1    45098  \n",
       "4  2022-05-30         day            1    45098  "
      ]
     },
     "execution_count": 3,
     "metadata": {},
     "output_type": "execute_result"
    }
   ],
   "source": [
    "df.head()"
   ]
  },
  {
   "cell_type": "code",
   "execution_count": 4,
   "id": "a520943f-0bad-4b47-a1fb-87cc3d4698a9",
   "metadata": {},
   "outputs": [],
   "source": [
    "df.price = df.price.fillna(0)\n",
    "df.price = pd.qcut(df.price, 10, labels=False)"
   ]
  },
  {
   "cell_type": "code",
   "execution_count": null,
   "id": "6545d8df-3dd7-4f0e-9f61-175c8a8c73f3",
   "metadata": {},
   "outputs": [],
   "source": [
    "%%time\n",
    "\n",
    "import numpy as np\n",
    "\n",
    "def most_frequent(x):\n",
    "    return x.mode()[0]\n",
    "\n",
    "df['unique_devices'] = df['cpe_model_name']\n",
    "\n",
    "names = ['region_name', 'city_name', 'cpe_manufacturer_name', 'cpe_model_name', 'cpe_type_cd', 'cpe_model_os_type', 'part_of_day', 'price']\n",
    "aggs = dict([(n, most_frequent) for n in names] + [('request_cnt', np.sum), ('unique_devices', lambda x: x.nunique())])\n",
    "df_agg = df.groupby(['user_id']).agg(aggs).reset_index().sort_values(by='user_id')\n",
    "\n",
    "df_agg.part_of_day.value_counts()"
   ]
  },
  {
   "cell_type": "code",
   "execution_count": null,
   "id": "db3c5846-e159-4c50-9eaf-c388711b8f92",
   "metadata": {},
   "outputs": [],
   "source": [
    "df_agg.head()"
   ]
  },
  {
   "cell_type": "code",
   "execution_count": null,
   "id": "e6951791-ea80-4bfc-a2ce-c3c6264b704c",
   "metadata": {},
   "outputs": [],
   "source": [
    "df_agg.unique_devices.value_counts()"
   ]
  },
  {
   "cell_type": "markdown",
   "id": "d2094aa6-6451-4aae-930d-e5b86a4dad4b",
   "metadata": {},
   "source": [
    "## Gender hollidays"
   ]
  },
  {
   "cell_type": "code",
   "execution_count": null,
   "id": "7b4ba238-278e-46e7-bee6-07c861c49b14",
   "metadata": {},
   "outputs": [],
   "source": [
    "%%time\n",
    "\n",
    "from datetime import datetime\n",
    "\n",
    "def gh(d):\n",
    "    d = d.strftime('%m-%d')\n",
    "    if d == '03-08':\n",
    "        return '8mar'\n",
    "    if d == '02-23':\n",
    "        return '23feb'\n",
    "    return None\n",
    "\n",
    "df['gh'] = df['date'].apply(gh) "
   ]
  },
  {
   "cell_type": "code",
   "execution_count": null,
   "id": "fc8f74b8-40da-4dff-b42b-b6e6c74ab51c",
   "metadata": {},
   "outputs": [],
   "source": [
    "df['gh'].value_counts()"
   ]
  },
  {
   "cell_type": "code",
   "execution_count": null,
   "id": "a73f5c0c-f7c4-486c-bda1-35dcbebc3a3e",
   "metadata": {},
   "outputs": [],
   "source": [
    "%%time\n",
    "\n",
    "df_gh = pd.pivot_table(df, values='request_cnt', index=['user_id'], columns=['gh'], aggfunc=np.sum).reset_index().fillna(0)\n",
    "df_gh.columns = df_gh.columns.get_level_values(0)\n",
    "\n",
    "total_cnt_8_23 = df_gh['8mar'] + df_gh['23feb'] + 1.\n",
    "df_gh['8mar']  /= total_cnt_8_23\n",
    "df_gh['23feb'] /= total_cnt_8_23\n",
    "\n",
    "df_gh.head(10)"
   ]
  },
  {
   "cell_type": "markdown",
   "id": "4d040b04-6f6d-4727-81a3-ac26955a2e72",
   "metadata": {},
   "source": [
    "## Part of day"
   ]
  },
  {
   "cell_type": "code",
   "execution_count": null,
   "id": "9d2ee1a9-f014-44af-9104-ff9920b7cfa6",
   "metadata": {},
   "outputs": [],
   "source": [
    "%%time\n",
    "\n",
    "df_pod = pd.pivot_table(df, values='request_cnt', index=['user_id'], columns=['part_of_day'], aggfunc=np.sum).reset_index().fillna(0)\n",
    "df_pod.columns = df_pod.columns.get_level_values(0)"
   ]
  },
  {
   "cell_type": "code",
   "execution_count": null,
   "id": "face4651-2238-4417-b6d7-9e1257c69b71",
   "metadata": {},
   "outputs": [],
   "source": [
    "total_pod = df_pod['day'] + df_pod['evening'] + df_pod['morning'] + df_pod['night'] + 1\n",
    "df_pod['day'] /= total_pod\n",
    "df_pod['evening'] /= total_pod\n",
    "df_pod['morning'] /= total_pod\n",
    "df_pod['night'] /= total_pod\n",
    "\n",
    "df_pod.head(10)"
   ]
  },
  {
   "cell_type": "markdown",
   "id": "a756a955-e731-44ed-b963-475682ca9ff5",
   "metadata": {},
   "source": [
    "## Pivots"
   ]
  },
  {
   "cell_type": "code",
   "execution_count": null,
   "id": "609e6f08-30cd-42da-82fc-a001ec5e3ac6",
   "metadata": {},
   "outputs": [],
   "source": [
    "from tqdm import tqdm\n",
    "cols = [\"region_name\", \"city_name\", \"cpe_manufacturer_name\", \"cpe_model_name\", \"cpe_type_cd\", \"cpe_model_os_type\"]\n",
    "for c in tqdm(cols):\n",
    "    print(c + \":\", len(set(df[c])))"
   ]
  },
  {
   "cell_type": "code",
   "execution_count": null,
   "id": "bc5f0b0d-c67c-47eb-b69a-b11e91f7883a",
   "metadata": {},
   "outputs": [],
   "source": [
    "%%time\n",
    "df_region = pd.pivot_table(df, values='request_cnt', index=['user_id'], columns=['region_name'], aggfunc=np.mean).reset_index().fillna(0)\n",
    "df_city = pd.pivot_table(df, values='request_cnt', index=['user_id'], columns=['city_name'], aggfunc=np.mean.reset_index().fillna(0)\n",
    "df_manuf = pd.pivot_table(df, values='request_cnt', index=['user_id'], columns=['cpe_manufacturer_name'], aggfunc=np.mean).reset_index().fillna(0)\n",
    "df_model = pd.pivot_table(df, values='request_cnt', index=['user_id'], columns=['cpe_model_name'], aggfunc=np.mean).reset_index().fillna(0)\n",
    "df_type = pd.pivot_table(df, values='request_cnt', index=['user_id'], columns=['cpe_type_cd'], aggfunc=np.mean).reset_index().fillna(0)\n",
    "df_os = pd.pivot_table(df, values='request_cnt', index=['user_id'], columns=['cpe_model_os_type'], aggfunc=np.mean).reset_index().fillna(0)"
   ]
  },
  {
   "cell_type": "markdown",
   "id": "76ed4c09-d7ce-473e-bea1-aac86eba6c07",
   "metadata": {},
   "source": [
    "## Merge"
   ]
  },
  {
   "cell_type": "code",
   "execution_count": null,
   "id": "5c05e01f-ef5c-46c7-91e8-d93640bd3eca",
   "metadata": {},
   "outputs": [],
   "source": [
    "%%time\n",
    "df_all = df_agg.merge(df_gh, on='user_id', how='left')\n",
    "df_all = df_all.merge(df_pod, on='user_id', how='left').fillna(-1)\n",
    "\n",
    "\n",
    "df_all = df_all.merge(df_region, on='user_id', how='left')\n",
    "df_all = df_all.merge(df_city, on='user_id', how='left')\n",
    "df_all = df_all.merge(df_manuf, on='user_id', how='left')\n",
    "df_all = df_all.merge(df_model, on='user_id', how='left')\n",
    "df_all = df_all.merge(df_type, on='user_id', how='left')\n",
    "df_all = df_all.merge(df_os, on='user_id', how='left')\n",
    "\n",
    "\n",
    "df_all.head()"
   ]
  },
  {
   "cell_type": "code",
   "execution_count": null,
   "id": "ae2df326-14e9-4e86-ae24-bc713ea38d13",
   "metadata": {},
   "outputs": [],
   "source": [
    "df_all.shape"
   ]
  },
  {
   "cell_type": "code",
   "execution_count": null,
   "id": "2676293e-bdb8-4516-89aa-9df29a0fce4f",
   "metadata": {},
   "outputs": [],
   "source": [
    "df_all.to_csv('./data/aggregates_pivot.csv', index=False)"
   ]
  },
  {
   "cell_type": "markdown",
   "id": "a2cc21ba-5b12-4d49-8cf9-a6da75bd5473",
   "metadata": {},
   "source": [
    "## Downstream"
   ]
  },
  {
   "cell_type": "code",
   "execution_count": null,
   "id": "548bc977-ee9d-4eeb-8401-801f5567fb81",
   "metadata": {},
   "outputs": [],
   "source": [
    "%%time\n",
    "\n",
    "import bisect\n",
    "import numpy as np\n",
    "\n",
    "df_embeds = pd.read_csv('./data/aggregates_pivot.csv')\n",
    "df_public = pq.read_table('data/public_train.pqt').to_pandas().sort_values(by='user_id')\n",
    "\n",
    "def age_bucket(x):\n",
    "    return bisect.bisect_left([18,25,35,45,55,65], x)\n",
    "\n",
    "y_age = df_public['age']\n",
    "y_age = np.array(list(map(age_bucket, y_age)))\n",
    "y_gender = np.array(df_public['is_male'])\n",
    "\n",
    "X = df_public\n",
    "X = X.merge(df_embeds, on=\"user_id\", how='inner')\n",
    "del X['user_id'], X['age'], X['is_male']"
   ]
  },
  {
   "cell_type": "markdown",
   "id": "fed7a8c7-8adc-4355-8848-1c8ecc4c4c1a",
   "metadata": {},
   "source": [
    "## Gender"
   ]
  },
  {
   "cell_type": "code",
   "execution_count": null,
   "id": "5aff0d4e-2c7d-44f2-9d3c-f4491b7e55a6",
   "metadata": {},
   "outputs": [],
   "source": [
    "cat_features = ['region_name', 'city_name', 'cpe_manufacturer_name', 'cpe_model_name', 'cpe_type_cd', 'cpe_model_os_type', 'part_of_day', 'price']"
   ]
  },
  {
   "cell_type": "code",
   "execution_count": null,
   "id": "51925f39-d5bf-4a06-86ae-172707b6f0a9",
   "metadata": {},
   "outputs": [],
   "source": [
    "# %%time\n",
    "\n",
    "from catboost import CatBoostClassifier, metrics\n",
    "from sklearn.model_selection import train_test_split\n",
    "from sklearn.metrics import roc_auc_score\n",
    "not_na_gender = (y_gender != 'NA') & (y_gender != None)\n",
    "x_train, x_test_gender, y_train, y_test_gender = train_test_split(X[not_na_gender], y_gender[not_na_gender], test_size = 0.1, random_state = 42)\n",
    "\n",
    "clf_gender = CatBoostClassifier(\n",
    "    iterations=1000,\n",
    "    custom_metric=[metrics.AUC()],\n",
    "    use_best_model=True,\n",
    "    random_seed=42,\n",
    "    task_type=\"GPU\", \n",
    "    devices='0:1')\n",
    "clf_gender.fit(x_train, y_train, metric_period=100, eval_set=(x_test_gender, y_test_gender), cat_features=cat_features)"
   ]
  },
  {
   "cell_type": "code",
   "execution_count": null,
   "id": "8c0ad373-a208-4a76-9835-a2c33691cf18",
   "metadata": {},
   "outputs": [],
   "source": [
    "print(f'GINI по полу {2 * roc_auc_score(y_test_gender, clf_gender.predict_proba(x_test_gender)[:,1]) - 1:2.3f}')"
   ]
  },
  {
   "cell_type": "markdown",
   "id": "cbcb8d3e-c66f-47b2-ae32-98e686d967e0",
   "metadata": {},
   "source": [
    "## Age"
   ]
  },
  {
   "cell_type": "code",
   "execution_count": null,
   "id": "6fbfce0d-1537-4c0c-b8dc-2574b8a2ca08",
   "metadata": {},
   "outputs": [],
   "source": [
    "%%time\n",
    "\n",
    "from sklearn.metrics import classification_report\n",
    "\n",
    "not_na_age = ~np.isnan(y_age)\n",
    "x_train, x_test_age, y_train, y_test_age = train_test_split(X[not_na_age], y_age[not_na_age], test_size = 0.1, random_state = 42)\n",
    "\n",
    "clf_age = CatBoostClassifier(iterations=1000,\n",
    "    custom_metric=[metrics.Accuracy()],\n",
    "    use_best_model=True,\n",
    "    random_seed=42,\n",
    "    task_type=\"GPU\", \n",
    "    devices='0:1')\n",
    "clf_age.fit(x_train, y_train, metric_period=100, eval_set=(x_test_age, y_test_age), cat_features=cat_features)"
   ]
  },
  {
   "cell_type": "code",
   "execution_count": null,
   "id": "cf9249b9-b0cb-46f5-b4f2-b034819dbc76",
   "metadata": {},
   "outputs": [],
   "source": [
    "print(classification_report(y_test_age, clf_age.predict(x_test_age), \\\n",
    "                            target_names = ['<18', '18-25','25-34', '35-44', '45-54', '55-65', '65+']))"
   ]
  },
  {
   "cell_type": "code",
   "execution_count": null,
   "id": "ab65ba7a-567d-44ac-a329-c3a0e2b6e399",
   "metadata": {},
   "outputs": [],
   "source": [
    "import pandas as pd\n",
    "df_embeds = pd.read_csv('./data/aggregates_pivot.csv')"
   ]
  },
  {
   "cell_type": "code",
   "execution_count": null,
   "id": "1dbd9da9-462e-4858-9a9e-8e0fdfe1d1d4",
   "metadata": {},
   "outputs": [],
   "source": [
    "df_embeds.head()"
   ]
  },
  {
   "cell_type": "code",
   "execution_count": null,
   "id": "1809e6ef-17f3-418a-b167-b8103251e20c",
   "metadata": {},
   "outputs": [],
   "source": [
    "(df_embeds['Чукотский АО_y']>0).value_counts()"
   ]
  }
 ],
 "metadata": {
  "kernelspec": {
   "display_name": "ptls",
   "language": "python",
   "name": "ptls"
  },
  "language_info": {
   "codemirror_mode": {
    "name": "ipython",
    "version": 3
   },
   "file_extension": ".py",
   "mimetype": "text/x-python",
   "name": "python",
   "nbconvert_exporter": "python",
   "pygments_lexer": "ipython3",
   "version": "3.8.10"
  }
 },
 "nbformat": 4,
 "nbformat_minor": 5
}
